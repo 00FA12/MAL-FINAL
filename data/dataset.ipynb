{
 "cells": [
  {
   "metadata": {},
   "cell_type": "markdown",
   "source": [
    "# Dataset preparation\n",
    "\n",
    "## Purpose\n",
    "This notebook was created with the goal to extract the data we require from the\n",
    "PokeAPI dataset, the completed dataset process is located in the\n",
    "/data/dataset-assembler.py file. The PokeAPI dataset is an extensive dataset\n",
    "containing all sorts of information about the Pokemon universe, including all\n",
    "the Pokemon, their types and abilities, pictures and much more. We will only work\n",
    "with a small fraction of it.\n",
    "\n",
    "Additionally, we will also prepare the pictures of all the Digimon we will use\n",
    "in our dataset.\n",
    "\n",
    "## Reasoning\n",
    "The PokeAPI dataset is a gargantuan dataset containing any and all information\n",
    "one could want about the Pokemon universe. However, for our purposes, most of\n",
    "that information is irrelevant and superfluous.\n",
    "\n",
    "Since our aim is to create a dataset that can classify whether a given image\n",
    "is a Pokemon or not, as well as to classify the Pokemon type based on the image,\n",
    "we only really need the Pokemon names, types, images, and a set of non-Pokemon\n",
    "images to train our model. The rest of this information is irrelevant to our\n",
    "purpose, as knowing for example, a Pokemon's height or weight does not help us\n",
    "identify it through an image.\n",
    "\n",
    "Since the Digimon only serve as negative examples of Pokemon, we only need their\n",
    "images and none of the additional information about them that is included in the\n",
    "dataset."
   ],
   "id": "35f0a44a5aebaf78"
  },
  {
   "metadata": {},
   "cell_type": "code",
   "source": [
    "from sys import displayhook\n",
    "\n",
    "import pandas as pd\n",
    "\n",
    "import os\n",
    "import shutil\n",
    "import re\n",
    "\n",
    "from data.properties import read_properties"
   ],
   "id": "5e3708bd0795b8b9",
   "outputs": [],
   "execution_count": null
  },
  {
   "metadata": {},
   "cell_type": "markdown",
   "source": [
    "## Data Acquisition\n",
    "\n",
    "In order for this notebook to work, you must have downloaded all the complete\n",
    "datasets from the PokeAPI and the Digimon pictures.\n",
    "\n",
    "If you do not have these datasets, you can download them at the following links:\n",
    "- [PokeAPI Repository](https://github.com/PokeAPI/pokeapi.git) (GitHub)\n",
    "- [PokeAPI Sprites Repository](https://github.com/PokeAPI/sprites.git) (GitHub)\n",
    "- [Digimon Webcrawler Data](https://drive.google.com/drive/folders/1tmcdsoX67NvmAgtmGJgo6kb3N6SlJeLu?usp=share_link) (Google Drive)\n",
    "\n",
    "The paths must be pointing to the folders such that the following structure is\n",
    "respected:\n",
    "\n",
    "```\n",
    "- PokeAPI Repository\n",
    "| - data\n",
    "| | - v2\n",
    "| | | - csv\n",
    "| | | | - <ALL CSV FILES>\n",
    "\n",
    "- PokeAPI Sprites Repository\n",
    "| - sprites\n",
    "| | - <ALL POKEMON SPRITES>\n",
    "\n",
    "- Digimon Webcrawler Data\n",
    "| - images (unzipped contents of images.zip)\n",
    "| | - <ALL DIGIMON IMAGES>\n",
    "```\n",
    "\n",
    "The configuration file must be located next to this notebook and must be named\n",
    "`paths.env` with the following content:\n",
    "\n",
    "```ini\n",
    "pokeAPI-data=path/to/PokeAPI\n",
    "pokeAPI-sprites=path/to/PokeAPI-sprites\n",
    "digimon-images=path/to/Digimon\n",
    "output-dir=path/to/output\n",
    "```"
   ],
   "id": "47be24a987c21eae"
  },
  {
   "cell_type": "code",
   "id": "initial_id",
   "metadata": {
    "collapsed": true
   },
   "source": [
    "props = read_properties('../paths.env')\n",
    "\n",
    "pokeAPI_data_repo = props['pokeAPI-data']\n",
    "pokeAPI_sprites_repo = props['pokeAPI-sprites']\n",
    "digimon_datasource = props['digimon-images']\n",
    "\n",
    "output_dir = props['dataset-dir']"
   ],
   "outputs": [],
   "execution_count": null
  },
  {
   "metadata": {},
   "cell_type": "code",
   "source": [
    "# PokeAPI csv data\n",
    "pokeAPI_data_root = os.path.join(pokeAPI_data_repo, 'data/v2/csv')\n",
    "# PokeAPI sprites folder\n",
    "pokeAPI_sprites_folder = os.path.join(pokeAPI_sprites_repo, 'sprites')\n",
    "# Digimon images folder\n",
    "digimon_images_folder = os.path.join(digimon_datasource, 'images')"
   ],
   "id": "fcb304a882f20f2a",
   "outputs": [],
   "execution_count": null
  },
  {
   "metadata": {},
   "cell_type": "code",
   "source": [
    "print('Checking for data...')\n",
    "\n",
    "pokeAPI_data_url = 'https://github.com/PokeAPI/pokeapi.git'\n",
    "pokeAPI_sprites_url = 'https://github.com/PokeAPI/sprites.git'\n",
    "digimon_data_url = 'https://drive.google.com/drive/folders/1tmcdsoX67NvmAgtmGJgo6kb3N6SlJeLu?usp=share_link'\n",
    "\n",
    "\n",
    "print('Retrieving PokeAPI data from: {}'.format(pokeAPI_data_root))\n",
    "if not os.path.exists(pokeAPI_data_root):\n",
    "    print('You must download the PokeAPI data first from the following git: {}'.format(pokeAPI_data_url))\n",
    "    raise FileNotFoundError('PokeAPI data not found')\n",
    "print('Retrieving PokeAPI sprites from: {}'.format(pokeAPI_sprites_folder))\n",
    "if not os.path.exists(pokeAPI_sprites_folder):\n",
    "    print('You must download the PokeAPI sprites first from the following git: {}'.format(pokeAPI_sprites_url))\n",
    "    raise FileNotFoundError('PokeAPI sprites not found')\n",
    "print('Retrieving Digimon images from: {}'.format(digimon_images_folder))\n",
    "if not os.path.exists(digimon_images_folder):\n",
    "    print('You must download the Digimon data first from the following Google Drive: {}'.format(digimon_data_url))\n",
    "    raise FileNotFoundError('Digimon images not found')\n",
    "if os.path.exists(output_dir):\n",
    "    print('The dataset folder already exists. Please remove it before running the script.')\n",
    "    raise FileExistsError('Dataset folder already exists')\n",
    "\n",
    "os.makedirs(output_dir)"
   ],
   "id": "b39e5b56f41d6057",
   "outputs": [],
   "execution_count": null
  },
  {
   "metadata": {},
   "cell_type": "code",
   "source": [
    "# Rading the PokeAPI data\n",
    "pokemon = pd.read_csv(os.path.join(pokeAPI_data_root, 'pokemon.csv'))\n",
    "pokemon"
   ],
   "id": "49a43e2c5046136b",
   "outputs": [],
   "execution_count": null
  },
  {
   "metadata": {},
   "cell_type": "code",
   "source": [
    "types = pd.read_csv(os.path.join(pokeAPI_data_root, 'types.csv'))\n",
    "types"
   ],
   "id": "c200b2fa621688f5",
   "outputs": [],
   "execution_count": null
  },
  {
   "metadata": {},
   "cell_type": "code",
   "source": [
    "pokemon_types = pd.read_csv(os.path.join(pokeAPI_data_root, 'pokemon_types.csv'))\n",
    "pokemon_types"
   ],
   "id": "7c88ccd5df5ecbc5",
   "outputs": [],
   "execution_count": null
  },
  {
   "metadata": {},
   "cell_type": "markdown",
   "source": [
    "## Trimming the data\n",
    "\n",
    "The PokeAPI dataset is quite extensive, it contains all Pokemon (currently 1025)\n",
    "and also many alternative form information. This information is assigned an ID\n",
    "that is greater than 10000 so that it does not interfere with the original Pokemon\n",
    "IDs, as such, we must filter out all IDs greater than 10000.\n",
    "\n",
    "Additionally, we will remove a lot of the columns that are not relevant to our\n",
    "current analysis, such as the foreign keys pointing to relationships outside our\n",
    "scope and some of the data irrelevant to us such as height and weight.\n",
    "\n",
    "There's also some types that are not relevant to our analysis, because they are\n",
    "only used for specific mechanics in the games and do not represent a Pokemon's\n",
    "type, such as the \"shadow\" type. We will remove these types from the dataset,\n",
    "thankfully, the same as Pokemon IDs apply, these types have IDs greater than 10000.\n",
    "\n",
    "We will also rename some of the columns to make them more readable and to avoid\n",
    "confusion later on."
   ],
   "id": "adb8f4a28044c64f"
  },
  {
   "metadata": {},
   "cell_type": "code",
   "source": [
    "id_cutoff = 10000\n",
    "\n",
    "pokemon_types = pokemon_types[pokemon_types['pokemon_id'] < id_cutoff]\n",
    "pokemon = pokemon[pokemon['id'] < id_cutoff]\n",
    "types = types[types['id'] < id_cutoff]\n",
    "types = types.drop(columns=['damage_class_id', 'generation_id'])\n",
    "pokemon = pokemon.drop(columns=['species_id', 'height', 'weight', 'base_experience', 'order', 'is_default'])\n",
    "pokemon = pokemon.rename(columns={'identifier': 'name'})\n",
    "types = types.rename(columns={'identifier': 'type_label'})\n",
    "\n",
    "display(pokemon)\n",
    "display(types)\n",
    "display(pokemon_types)"
   ],
   "id": "7f354d0181ec1d19",
   "outputs": [],
   "execution_count": null
  },
  {
   "metadata": {},
   "cell_type": "markdown",
   "source": [
    "## Merging the data\n",
    "The data is currently split into three tables, the Pokemon table, the Types table\n",
    "and the relationship table between these two, the Pokemon_Types table. We will\n",
    "merge them using the IDs that act as foreign keys between them.\n",
    "\n",
    "The final dataset will be a single table with each row containing a Pokemon and\n",
    "one of its types, dual-type Pokemon will have two rows in the table, one for each\n",
    "type.\n",
    "\n",
    "The final dataset will be saved in the \\<target>/dataset folder as a CSV file.\n",
    "for future reference."
   ],
   "id": "bc56aeb6b291caa5"
  },
  {
   "metadata": {},
   "cell_type": "code",
   "source": [
    "pokemon_merged = pokemon_types.merge(types, left_on='type_id', right_on='id').drop(columns=['id'])\n",
    "pokemon_merged = pokemon_merged.rename(columns={'identifier': 'type', 'slot': 'type_slot'})\n",
    "pokemon_merged = pokemon.merge(pokemon_merged, left_on='id', right_on='pokemon_id').drop(columns=['id'])\n",
    "pokemon_merged"
   ],
   "id": "f1025d99078bc808",
   "outputs": [],
   "execution_count": null
  },
  {
   "metadata": {},
   "cell_type": "code",
   "source": [
    "dataset_dir = os.path.join(output_dir, 'dataset')\n",
    "dataset_target = os.path.join(dataset_dir, 'pokemon.csv')\n",
    "if not os.path.exists(dataset_dir):\n",
    "    os.makedirs(dataset_dir)\n",
    "pokemon_merged.to_csv(dataset_target, index=False)\n",
    "print('Pokemon data saved to {}'.format(dataset_target))"
   ],
   "id": "c4efaaea400b56b9",
   "outputs": [],
   "execution_count": null
  },
  {
   "metadata": {},
   "cell_type": "markdown",
   "source": [
    "## Copying the images\n",
    "The official-artwork folder contains all the Pokemon images in the format \\<id>.png\n",
    "\n",
    "Since this includes all the alternative forms and other images that are not the\n",
    "included in the dataset, we will use a regex to filter out images with ids\n",
    "greater or equal to 10000.\n",
    "\n",
    "For that the following regex pattern will be used:\n",
    "- ^\\[0-9]{1,4}\\\\.png\n",
    "\n",
    "The pattern takes a string starting with 1 to 4 digits and then followed by the \n",
    ".png extension\n",
    "\n",
    "This means that any image containing more than 4 digits ID will be ignored."
   ],
   "id": "f40cef3d7de03caa"
  },
  {
   "metadata": {},
   "cell_type": "code",
   "source": [
    "source_images = os.path.join(pokeAPI_sprites_folder, 'pokemon/other/official-artwork')\n",
    "pokeAPI_image_files = os.listdir(source_images)\n",
    "print('Preparing {} Pokemon images...'.format(len(pokeAPI_image_files)))\n",
    "target_images = os.path.join(output_dir, 'images/pokemon')\n",
    "os.makedirs(target_images)"
   ],
   "id": "990aefde47738cc4",
   "outputs": [],
   "execution_count": null
  },
  {
   "metadata": {},
   "cell_type": "code",
   "source": [
    "valid_image_pattern = re.compile(r'^[0-9]{1,4}\\.png')\n",
    "for file in pokeAPI_image_files:\n",
    "    if valid_image_pattern.match(file):\n",
    "        source = os.path.join(source_images, file)\n",
    "        target = os.path.join(target_images, file)\n",
    "        shutil.copy(source, target)\n",
    "        print('Copied {} to {}'.format(file, target))"
   ],
   "id": "39bb98dc7d00bed7",
   "outputs": [],
   "execution_count": null
  },
  {
   "metadata": {},
   "cell_type": "markdown",
   "source": [
    "## Digimon images\n",
    "The Digimon images are simply copied to the output folder"
   ],
   "id": "c837df11905dfaa1"
  },
  {
   "metadata": {},
   "cell_type": "code",
   "source": [
    "digimon_image_files = os.listdir(digimon_images_folder)\n",
    "print('Preparing {} Digimon images...'.format(len(digimon_image_files)))\n",
    "target_images = os.path.join(output_dir, 'images/digimon')\n",
    "os.makedirs(target_images)\n",
    "for file in digimon_image_files:\n",
    "    source = os.path.join(digimon_images_folder, file)\n",
    "    target = os.path.join(target_images, file)\n",
    "    shutil.copy(source, target)\n",
    "    print('Copied file\\n\\tfrom: {}\\n\\tto: {}'.format(file, target))"
   ],
   "id": "2f65efd577dd567",
   "outputs": [],
   "execution_count": null
  }
 ],
 "metadata": {
  "kernelspec": {
   "display_name": "Python 3",
   "language": "python",
   "name": "python3"
  },
  "language_info": {
   "codemirror_mode": {
    "name": "ipython",
    "version": 2
   },
   "file_extension": ".py",
   "mimetype": "text/x-python",
   "name": "python",
   "nbconvert_exporter": "python",
   "pygments_lexer": "ipython2",
   "version": "2.7.6"
  }
 },
 "nbformat": 4,
 "nbformat_minor": 5
}
