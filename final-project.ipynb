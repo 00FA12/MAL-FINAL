{
 "cells": [
  {
   "cell_type": "markdown",
   "metadata": {},
   "source": [
    "## 7. Group Assignment & Presentation"
   ]
  },
  {
   "cell_type": "markdown",
   "metadata": {},
   "source": [
    "\n",
    "\n",
    "__You should be able to start up on this exercise after Lecture 1.__\n",
    "\n",
    "*This exercise must be a group effort. That means everyone must participate in the assignment.*\n",
    "\n",
    "In this assignment you will solve a data science problem end-to-end, pretending to be recently hired data scientists in\n",
    "a company. To help you get started, we've prepared a checklist to guide you through the project. Here are the main steps\n",
    "that you will go through:\n",
    "\n",
    "1. Frame the problem and look at the big picture\n",
    "2. Get the data\n",
    "3. Explore and visualise the data to gain insights\n",
    "4. Prepare the data to better expose the underlying data patterns to machine learning algorithms\n",
    "5. Explore many different models and short-list the best ones\n",
    "6. Fine-tune your models\n",
    "7. Present your solution (video presentation) \n",
    "\n",
    "In each step we list a set of questions that one should have in mind when undertaking a data science project. The list\n",
    "is not meant to be exhaustive, but does contain a selection of the most important questions to ask. We will be available\n",
    "to provide assistance with each of the steps, and will allocate some part of each lesson towards working on the projects.\n",
    "\n",
    "Your group must submit a _**single**_ Jupyter notebook, structured in terms of the first 6 sections listed above\n",
    "(the seventh will be a video uploaded to some streaming platform, e.g. YouTube, Vimeo, etc.).\n"
   ]
  },
  {
   "cell_type": "code",
   "execution_count": 1,
   "metadata": {
    "ExecuteTime": {
     "end_time": "2024-12-15T02:02:39.812426Z",
     "start_time": "2024-12-15T02:02:35.872438Z"
    }
   },
   "outputs": [],
   "source": [
    "# Importing the necessary libraries for this project\n",
    "# Standard Library modules\n",
    "import os\n",
    "import re\n",
    "import shutil\n",
    "import statistics\n",
    "\n",
    "# Dependencies\n",
    "import pandas as pd\n",
    "import numpy as np\n",
    "import tensorflow as tf\n",
    "from keras import layers, models\n",
    "import matplotlib.pyplot as plt\n",
    "import seaborn as sns"
   ]
  },
  {
   "cell_type": "markdown",
   "metadata": {},
   "source": [
    "<!-- The following is the assignment description for the followning section, hidden from display\n",
    "### 1. Analysis: Frame the problem and look at the big picture\n",
    "1. Find a problem/task that everyone in the group finds interesting\n",
    "2. Define the objective in business terms\n",
    "3. How should you frame the problem (supervised/unsupervised etc.)?\n",
    "4. How should performance be measured?\n",
    "-->\n",
    "## 1. Analysis: Frame the problem and look at the big picture\n",
    "[//] # TODO: Write a description of the problem and the business objective. Define the problem in business terms.\n",
    "\n",
    "### Problem Statement\n",
    "Pokemon is the highest grossing media franchise of all time, leading ahead of other very popular franchises such as\n",
    "Disney's Marvel or Star Wars. The franchise has its roots in a creature-collection RPG video game released back in\n",
    "1996 for the GameBoy console. Since then, the franchise has expanded to include an animated series with 27 seasons as of\n",
    "2024, 23 movies, a trading card game spanning decades, a myriad of licensed toys and merchandise, a video-game series\n",
    "with 41 main games and countless spin-offs, and even a theme park in Japan.\n",
    "\n",
    "The franchise's main appeal is the fictitious creatures known as Pokemon, which are caught and trained by the people in\n",
    "the Pokemon world for battles. Each Pokemon has a unique style, ranging from cute to intimidating and everything in\n",
    "between, they are classified into one or two elemental types and has a set of unique characteristics that sets them\n",
    "apart.\n",
    "\n",
    "Telling what a Pokemon is from an image is a task trivial for humans, but as the series has grown from its original 151\n",
    "roaster of Pokemon to include the current 1025 species as of the latest additions in Pokemon Scarlet and Violet, it has\n",
    "become a daunting task for anyone to keep track of all the Pokemon species and their types. Additionally, as the series\n",
    "is sure to keep growing, more and more Pokemon will be added, making it even harder to keep track of them all.\n",
    "\n",
    "With this in mind, we have devised a project to help Pokemon fans identify whether a creature is a Pokemon and what type\n",
    "it is based on images, and to help identify even future Pokemon species. For this, an image classification model will be\n",
    "developed in order to be able to tell Pokemon apart from creatures in other similar competing franchises such as Digimon,\n",
    "as well as determine the elemental type of the Pokemon.\n",
    "\n",
    "Ideally, this model would be only the tip of the pyramid, additional features could be added to turn this into a more\n",
    "useful real application such as computer vision models to identify creatures from video footage for this model to classify,\n",
    "a recommendation system to suggest creatures with an advantage against the identified Pokemon, and much more.\n",
    "\n",
    "We hope this project will be a fun and interesting learning experience and that it builds a solid foundation.\n",
    "\n",
    "### Objectives\n",
    "\n",
    "The following notebook will include every step, from gathering the data for our model to training and evaluating it.\n",
    "The main objective of this project is to develop a machine learning model capable of classifying images of fictitious\n",
    "creatures as Pokemon or not, and for those identified as Pokemon, to classify them into their respective elemental types.\n",
    "\n",
    "1. Determine if an image of a creature represents a Pokemon or not.\n",
    "2. Determine the elemental type of those creatures identified as Pokemon.\n",
    "3. Evaluate the performance of the model using appropriate metrics.\n",
    "\n",
    "#### Framing the problem\n",
    "##### Determine if an image of a creature represents a Pokemon or not.\n",
    "In the case of the first objective, the problem involves binary classification, where the model's output needs only\n",
    "to be a yes or no answer to the question \"Is this a Pokemon?\".\n",
    "\n",
    "Since we desire a model capable of identifying Pokemon, supervised learning is the most appropriate approach, as we have\n",
    "clearly labeled data to train the model on. An unsupervised approach would not be appropriate, as allowing the model to\n",
    "find patterns in the data on its own would be a waste of time at best and produce a model with inaccurate results at worst.\n",
    "\n",
    "To measure the performance of this model, there are a few metrics to take into account:\n",
    "  - The model's accuracy defined by how many guesses are actually correct.\n",
    "  - The model's precision defined as the fraction of the true predictions that are actually true.\n",
    "  $$ \\text{Precision} = \\frac{\\text{True Positives}}{\\text{True Positives} + \\text{False Positives}} $$\n",
    "  - The model's recall defined as the fraction of images correctly identified:\n",
    "  $$\\text{Recall}= \\frac {\\text{True Positives}}{\\text{True Positives + False Negatives}} $$\n",
    "  - F1 score is also an interesting metric, which is the mean of precision and recall. Since we're dealing with rates,\n",
    "  the harmonic mean is used instead of the arithmetic mean for most appropriate results:\n",
    "  $$\\text{F1} = 2 \\cdot \\frac{\\text{Precision} \\cdot \\text{Recall}}{\\text{Precision} + \\text{Recall}}$$\n",
    "  - Area Under the Curve (AUC) is also a good metric to take into account, as it measures the area under the ROC curve,\n",
    "  which is a plot of the true positive rate against the false positive rate.\n",
    "  - Binary Cross-Entropy, which is the loss function used for  classification problems, is also a good metric to take\n",
    "  into account, as it measures the difference between the predicted probability distribution and the true distribution.\n",
    "\n",
    "##### Determine the Pokemon type\n",
    "In the case of the second objective, the problem involves a multi-label classification, where the model's output needs\n",
    "to be a list of types that the Pokemon belongs to. This is because some Pokemon species have more than one type, and the\n",
    "model needs to be able to identify all of them.\n",
    "\n",
    "Since we desire a model capable of identifying Pokemon types, supervised learning is the most appropriate approach, as we\n",
    "have clearly labeled data to train the model on. The same as before, we have already classified data to train our model\n",
    "with, and it helps us speed up the process to get higher accuracy.\n",
    "\n",
    "To measure the performance of this model, there are a few metrics to take into account, firstly, since this is also a\n",
    "classification problem, the same metrics as before can be used.\n"
   ]
  },
  {
   "cell_type": "markdown",
   "metadata": {},
   "source": [
    "<!-- The following is the assignment description for the followning section, hidden from display\n",
    "### 2. Get the data\n",
    "1. Find and document where you can get the data from\n",
    "2. Get the data\n",
    "3. Check the size and type of data (time series, geographical etc)\n",
    "-->\n",
    "## 2. Get the data\n",
    "\n",
    "### Data Sources\n",
    "\n",
    "To train the model for Pokémon classification, two datasets have been selected\n",
    "to cover the primary tasks: identifying Pokémon and distinguishing them from\n",
    "non-Pokémon images. These datasets provide a robust foundation for the project.\n",
    "\n",
    "- The PokeAPI dataset is an extensive dataset containing all sorts of information\n",
    "about the Pokemon universe, including information on all Pokemon species, images\n",
    "and other information such as moves, abilities, and locations. The dataset is\n",
    "available on GitHub [here](https://github.com/PokeAPI/pokeapi.git) and the\n",
    "corresponding submodules.\n",
    "\n",
    "- The Digimon dataset is a collection of images scraped from the\n",
    "[Wikimon.net](https://wikimon.net/Visual_List_of_Digimon) website and contains\n",
    "about 1000 images of Digimon species and variations, since this only serves as\n",
    "negative examples of Pokemon, we only need their images and none of the additional\n",
    "information about them.\n",
    "\n",
    "The web scrapper used to gather the Digimon data can be found on GitHub\n",
    "[here](https://github.com/lorenzo-stacchio/Digimon_Dataset), although there\n",
    "exists a Google Drive link with the data already gathered, which can be found\n",
    "[here](https://drive.google.com/drive/folders/1tmcdsoX67NvmAgtmGJgo6kb3N6SlJeLu?usp=share_link)\n",
    "\n",
    "In order for the rest of the notebook to properly be able to access the dataset, an additional\n",
    "path.env configuration file is needed, the following is a sample of said file contents:\n",
    "\n",
    "```properties\n",
    "pokeAPI-data=path/to/PokeAPI\n",
    "pokeAPI-sprites=path/to/PokeAPI-sprites\n",
    "digimon-images=path/to/Digimon\n",
    "\n",
    "dataset-dir=path/to/generated/dataset\n",
    "```\n",
    "\n",
    "Notably, `dataset-dir` is the directory where the generated dataset will be saved. In case that this is not the first\n",
    "time that you run this notebook, the dataset will be read from this directory instead of being generated again, this is\n",
    "a measure taken to save time and resources with subsequent runs of the notebook, during development where every session\n",
    "a new Jupyter server is started and the whole notebook is run again, this is a very useful feature to have."
   ]
  },
  {
   "cell_type": "code",
   "execution_count": 2,
   "metadata": {
    "ExecuteTime": {
     "end_time": "2024-12-15T02:02:39.830301Z",
     "start_time": "2024-12-15T02:02:39.826270Z"
    }
   },
   "outputs": [],
   "source": [
    "# This function reads the properties from the path.env file\n",
    "def read_properties(path):\n",
    "    props = {}\n",
    "    property_regex = re.compile(r'#{0}(.+)[:=]([^\\n\\r#]+)#?')\n",
    "    with open(path, 'r') as f:\n",
    "        lines = f.readlines()\n",
    "        for line in lines:\n",
    "            match = property_regex.match(line)\n",
    "            if match:\n",
    "                key = match.group(1).strip()\n",
    "                value = match.group(2).strip()\n",
    "                #print('Found property: {}={}'.format(key, value))\n",
    "                props[key] = value\n",
    "    return props"
   ]
  },
  {
   "cell_type": "code",
   "execution_count": 3,
   "metadata": {
    "ExecuteTime": {
     "end_time": "2024-12-15T02:02:39.936206Z",
     "start_time": "2024-12-15T02:02:39.928731Z"
    }
   },
   "outputs": [
    {
     "data": {
      "text/plain": [
       "{'pokeAPI-data': '\"\"',\n",
       " 'pokeAPI-sprites': '\"\"',\n",
       " 'digimon-images': '\"\"',\n",
       " 'dataset-dir': './Dataset'}"
      ]
     },
     "metadata": {},
     "output_type": "display_data"
    }
   ],
   "source": [
    "props = read_properties('paths.env')\n",
    "\n",
    "pokeAPI_data_repo = props['pokeAPI-data']\n",
    "pokeAPI_sprites_repo = props['pokeAPI-sprites']\n",
    "digimon_datasource = props['digimon-images']\n",
    "\n",
    "output_dir = props['dataset-dir']\n",
    "display(props)"
   ]
  },
  {
   "cell_type": "code",
   "execution_count": 4,
   "metadata": {
    "ExecuteTime": {
     "end_time": "2024-12-15T02:02:39.996617Z",
     "start_time": "2024-12-15T02:02:39.992593Z"
    }
   },
   "outputs": [],
   "source": [
    "# Using __ as a prefix to clarify that variables are not meant to be used later\n",
    "# PokeAPI csv data\n",
    "__pokeAPI_data_root = os.path.join(pokeAPI_data_repo, 'data/v2/csv')\n",
    "# PokeAPI sprites folder\n",
    "__pokeAPI_sprites_folder = os.path.join(pokeAPI_sprites_repo, 'sprites')\n",
    "# Digimon images folder\n",
    "__digimon_images_folder = os.path.join(digimon_datasource, 'images')"
   ]
  },
  {
   "cell_type": "code",
   "execution_count": 5,
   "metadata": {
    "ExecuteTime": {
     "end_time": "2024-12-15T02:02:40.241251Z",
     "start_time": "2024-12-15T02:02:40.120141Z"
    }
   },
   "outputs": [
    {
     "name": "stdout",
     "output_type": "stream",
     "text": [
      "Checking for data...\n",
      "You must download the PokeAPI data first from the following git: https://github.com/PokeAPI/pokeapi.git\n",
      "You must download the PokeAPI sprites first from the following git: https://github.com/PokeAPI/sprites.git\n",
      "You must download the Digimon data first from the following Google Drive: https://drive.google.com/drive/folders/1tmcdsoX67NvmAgtmGJgo6kb3N6SlJeLu?usp=share_link\n",
      "You must download the following sources: PokeAPI data, PokeAPI sprites, Digimon images\n"
     ]
    }
   ],
   "source": [
    "print('Checking for data...')\n",
    "__pokeAPI_data_url = 'https://github.com/PokeAPI/pokeapi.git'\n",
    "__pokeAPI_sprites_url = 'https://github.com/PokeAPI/sprites.git'\n",
    "__digimon_data_url = 'https://drive.google.com/drive/folders/1tmcdsoX67NvmAgtmGJgo6kb3N6SlJeLu?usp=share_link'\n",
    "\n",
    "__missing_sources = []\n",
    "if not os.path.exists(__pokeAPI_data_root):\n",
    "    print('You must download the PokeAPI data first from the following git: {}'.format(__pokeAPI_data_url))\n",
    "    __missing_sources.append('PokeAPI data')\n",
    "else:\n",
    "    print('Retrieving PokeAPI data from: {}'.format(__pokeAPI_data_root))\n",
    "\n",
    "if not os.path.exists(__pokeAPI_sprites_folder):\n",
    "    print('You must download the PokeAPI sprites first from the following git: {}'.format(__pokeAPI_sprites_url))\n",
    "    __missing_sources.append('PokeAPI sprites')\n",
    "else:\n",
    "    print('Retrieving PokeAPI sprites from: {}'.format(__pokeAPI_sprites_folder))\n",
    "\n",
    "if not os.path.exists(__digimon_images_folder):\n",
    "    print('You must download the Digimon data first from the following Google Drive: {}'.format(__digimon_data_url))\n",
    "    __missing_sources.append('Digimon images')\n",
    "else:\n",
    "    print('Retrieving Digimon images from: {}'.format(__digimon_images_folder))\n",
    "\n",
    "if len(__missing_sources) > 1:\n",
    "    print('You must download the following sources: {}'.format(', '.join(__missing_sources)))\n",
    "    # TODO: If props['debug'] is False raise the error?, we can then control it from paths.env and rename it .env\n",
    "    # raise FileNotFoundError('Missing data sources')\n",
    "\n",
    "if not os.path.exists(output_dir):\n",
    "    os.makedirs(output_dir)"
   ]
  },
  {
   "cell_type": "code",
   "execution_count": 6,
   "metadata": {
    "ExecuteTime": {
     "end_time": "2024-12-15T02:02:40.249985Z",
     "start_time": "2024-12-15T02:02:40.246313Z"
    }
   },
   "outputs": [
    {
     "name": "stdout",
     "output_type": "stream",
     "text": [
      "The dataset has already been generated, please delete to regenerate\n"
     ]
    }
   ],
   "source": [
    "# Verify the datasource hasn't generated earlier\n",
    "dataset_dir = os.path.join(output_dir, 'dataset')\n",
    "dataset_path = os.path.join(dataset_dir, 'pokemon.csv')\n",
    "generate_dataset = True\n",
    "if os.path.exists(dataset_path):\n",
    "    generate_dataset = False\n",
    "    print('The dataset has already been generated, please delete to regenerate')"
   ]
  },
  {
   "cell_type": "markdown",
   "metadata": {},
   "source": [
    "<!-- The following is the assignment description for the followning section, hidden from display\n",
    "## 3. Explore the data\n",
    "1. Create a copy of the data for explorations (sampling it down to a manageable size if necessary)\n",
    "2. Create a Jupyter notebook to keep a record of your data exploration\n",
    "3. Study each feature and its characteristics:\n",
    "    * Name\n",
    "    * Type (categorical, int/float, bounded/unbounded, text, structured, etc)\n",
    "    * Percentage of missing values\n",
    "    * Check for outliers, rounding errors etc\n",
    "4. For supervised learning tasks, identify the target(s)\n",
    "5. Visualise the data\n",
    "6. Study the correlations between features\n",
    "7. Identify the promising transformations you may want to apply (e.g. convert skewed targets to normal via a log transformation)\n",
    "8. Document what you have learned\n",
    "-->\n",
    "#### Data exploration\n",
    "\n",
    "- PokeAPI Dataset:\n",
    "    - The dataset contains images for all Pokemon species, one for each game\n",
    "    they have been in among many alternate forms and color variations.\n",
    "    - The dataset also includes CSV files with information about Pokemon, where\n",
    "    to find them, their moves and abilities, etc...\n",
    "- Digimon Dataset\n",
    "    - The dataset contains images scraped from the Digimon wiki, this includes\n",
    "    roughly about a thousand images of Digimon species and variations."
   ]
  },
  {
   "cell_type": "code",
   "execution_count": 7,
   "metadata": {
    "ExecuteTime": {
     "end_time": "2024-12-15T02:02:47.601470Z",
     "start_time": "2024-12-15T02:02:40.301113Z"
    }
   },
   "outputs": [
    {
     "name": "stdout",
     "output_type": "stream",
     "text": [
      "PokeAPI data files not found, skipping instrospection\n",
      "PokeAPI sprites files not found, skipping instrospection\n",
      "Digimon images files not found, skipping instrospection\n"
     ]
    }
   ],
   "source": [
    "# Exploring the available data\n",
    "def retrieve_relevant_files(path, extension) -> list:\n",
    "    available_files = []\n",
    "    files = os.listdir(path)\n",
    "    for file in files:\n",
    "        if os.path.isdir(os.path.join(path, file)) and extension != '':\n",
    "            sub_files = retrieve_relevant_files(os.path.join(path, file), extension)\n",
    "            for sub_file in sub_files:\n",
    "                available_files.append(f'{file}/{sub_file}')\n",
    "        if os.path.isdir(os.path.join(path, file)) and extension == '':\n",
    "            available_files.append(file)\n",
    "            sub_dirs = retrieve_relevant_files(os.path.join(path, file), extension)\n",
    "            for sub_dir in sub_dirs:\n",
    "                available_files.append(f'{file}/{sub_dir}')\n",
    "        elif os.path.isfile(os.path.join(path, file)) and extension != '' and file.endswith(extension):\n",
    "            available_files.append(file)\n",
    "    return available_files\n",
    "\n",
    "def find_relevant_sources(path, extension, missing_key):\n",
    "    if missing_key not in __missing_sources:\n",
    "        print('-'*20)\n",
    "        print(f'{missing_key} files:')\n",
    "        for file in retrieve_relevant_files(path, extension):\n",
    "            print(file)\n",
    "    else:\n",
    "        print(f'{missing_key} files not found, skipping instrospection')\n",
    "\n",
    "find_relevant_sources(__pokeAPI_data_root, '.csv', 'PokeAPI data')\n",
    "find_relevant_sources(__pokeAPI_sprites_folder, '', 'PokeAPI sprites')\n",
    "find_relevant_sources(__digimon_images_folder, '', 'Digimon images')"
   ]
  },
  {
   "cell_type": "markdown",
   "metadata": {},
   "source": [
    "#### The data:\n",
    "We can see there's an unending list of csv files in the PokeAPI dataset, most of these are not really relevant to us, as\n",
    "we are only interested in the Pokemon species and their types, as such, we will only be using the following files:\n",
    "- pokemon.csv\n",
    "    - This file contains the information of a Pokemon, such as its name, height, weight, and other information, we will\n",
    "    have to trim it but it's a start\n",
    "- types.csv\n",
    "    - This file contains an index of all types of Pokemon, such as fire, water, grass, etc... We will also have to trim\n",
    "    this as we're not interested in the damage class or generation of the type.\n",
    "- pokemon_types.csv\n",
    "    - This file contains the relationship between Pokemon and their types, we will use this to merge the Pokemon and\n",
    "    types so that we can have a single dataset with all our relevant information.\n",
    "\n",
    "#### The images\n",
    "As we can see, with the Digimon data it's pretty straightforward, we have a folder with all the images, since these are\n",
    "only negative examples of non-Pokemon creatures, we don't need to worry about any additional information about them, we\n",
    "can simply use all of them (despite many being alternate forms, color variations, etc...).\n",
    "\n",
    "As for the Pokemon images, we have many folders that can be immediately, folders such as badges and items for containing\n",
    "images that are irrelevant to our task at hand. As for the remaining, the types folder is promising but upon closer\n",
    "inspection, it contains images of the type labels in a badge, which isn't useful for us, the only folder that contains\n",
    "the images we need is the `pokemon` folder.\n",
    "\n",
    "In this folder, we have pictures of Pokemon as well as several subfolders, each containing even more pictures of the\n",
    "Pokemon. For briefness, we will refer to the [dataset-readme](https://github.com/PokeAPI/sprites/blob/master/README.md)\n",
    "in order to obtain more information about the images. We can see that the images are named after the Pokemon's ID, and\n",
    "that they're divided depending on the source game. Most of these contain pixel-art images of the Pokemon, but there is\n",
    "some promising folders that align with the art-style of our negative set of Digimon images, which makes it so that the\n",
    "model will have to rely on the features of the Pokemon to classify them, rather than the art-style.\n",
    "\n",
    "The most promising folders are the `other/official-artwork` which contain artist renditions of every Pokemon and the\n",
    "`other/dream-world` which contain images of the Pokemon in a more cartoony style from the browser game Pokemon Dream World.\n",
    "However, our decision is made easy knowing that the `official-artwork` folder contains images of all Pokemon to date while\n",
    "the `dream-world` folder only contains images of the first 649 Pokemon, which is a subset of the `official-artwork` folder.\n",
    "\n",
    "This means that we will only be using the `official-artwork` folder for our model, as it contains all the images we need.\n",
    "\n"
   ]
  },
  {
   "cell_type": "code",
   "execution_count": 8,
   "metadata": {
    "ExecuteTime": {
     "end_time": "2024-12-15T02:02:47.616674Z",
     "start_time": "2024-12-15T02:02:47.612241Z"
    }
   },
   "outputs": [],
   "source": [
    "def import_data():\n",
    "    original_pokemon = pd.read_csv(os.path.join(__pokeAPI_data_root, 'pokemon.csv'))\n",
    "    original_types = pd.read_csv(os.path.join(__pokeAPI_data_root, 'types.csv'))\n",
    "    original_pokemon_types = pd.read_csv(os.path.join(__pokeAPI_data_root, 'pokemon_types.csv'))\n",
    "    return original_pokemon, original_types, original_pokemon_types"
   ]
  },
  {
   "cell_type": "markdown",
   "metadata": {},
   "source": [
    "#### Trimming the data\n",
    "\n",
    "The PokeAPI dataset is quite extensive, it contains all Pokemon (currently 1025)\n",
    "and also many alternative form information. This information is assigned an ID\n",
    "that is greater than 10000 so that it does not interfere with the original Pokemon\n",
    "IDs, as such, we must filter out all IDs greater than 10000.\n",
    "\n",
    "Additionally, we will remove a lot of the columns that are not relevant to our\n",
    "current analysis, such as the foreign keys pointing to relationships outside our\n",
    "scope and some of the data irrelevant to us such as height and weight.\n",
    "\n",
    "There's also some types that are not relevant to our analysis, because they are\n",
    "only used for alternate forms of Pokemon which we have removed already, such as\n",
    "the \"shadow\" type. We will remove these types from the dataset, thankfully, the\n",
    "same as Pokemon IDs apply, these types have IDs greater than 10000.\n",
    "\n",
    "We will also rename some of the columns to make them more readable and to avoid\n",
    "confusion later on.\n",
    "\n",
    "The following are the functions that will generate a new trimmed dataset for us\n",
    "to use in our model. However, as mentioned earlier, before calling these functions\n",
    "we will check if the dataset has already been generated, if it has, we will read\n",
    "it instead to save time and resources."
   ]
  },
  {
   "cell_type": "code",
   "execution_count": 9,
   "metadata": {
    "ExecuteTime": {
     "end_time": "2024-12-15T02:02:47.660225Z",
     "start_time": "2024-12-15T02:02:47.656496Z"
    }
   },
   "outputs": [],
   "source": [
    "def clean_source_datasets(original_pokemon, original_types, original_pokemon_types):\n",
    "    id_cutoff = 10000\n",
    "\n",
    "    pokemon_types = original_pokemon_types[original_pokemon_types['pokemon_id'] < id_cutoff]\n",
    "    pokemon = original_pokemon[original_pokemon['id'] < id_cutoff]\n",
    "    types = original_types[original_types['id'] < id_cutoff]\n",
    "    types = types.drop(columns=['damage_class_id', 'generation_id'])\n",
    "    pokemon = pokemon.drop(columns=['species_id', 'height', 'weight', 'base_experience', 'order', 'is_default'])\n",
    "    pokemon = pokemon.rename(columns={'identifier': 'name'})\n",
    "    types = types.rename(columns={'identifier': 'type_label'})\n",
    "    return pokemon, types, pokemon_types"
   ]
  },
  {
   "cell_type": "code",
   "execution_count": 10,
   "metadata": {
    "ExecuteTime": {
     "end_time": "2024-12-15T02:02:47.717314Z",
     "start_time": "2024-12-15T02:02:47.712490Z"
    }
   },
   "outputs": [],
   "source": [
    "def merge_dataset(pokemon, types, pokemon_types):\n",
    "    merged = pokemon_types.merge(types, left_on='type_id', right_on='id').drop(columns=['id'])\n",
    "    merged = merged.rename(columns={'identifier': 'type', 'slot': 'type_slot'})\n",
    "    merged = pokemon.merge(merged, left_on='id', right_on='pokemon_id').drop(columns=['id'])\n",
    "    dataset_target = os.path.join(dataset_dir, 'pokemon.csv')\n",
    "    if not os.path.exists(dataset_dir):\n",
    "        os.makedirs(dataset_dir)\n",
    "    merged.to_csv(dataset_target, index=False)\n",
    "    print('Pokemon data saved to {} for saving'.format(dataset_target))\n",
    "    return merged"
   ]
  },
  {
   "cell_type": "code",
   "execution_count": 11,
   "metadata": {
    "ExecuteTime": {
     "end_time": "2024-12-15T02:02:47.881601Z",
     "start_time": "2024-12-15T02:02:47.757202Z"
    }
   },
   "outputs": [
    {
     "name": "stdout",
     "output_type": "stream",
     "text": [
      "Reading dataset from ./Dataset/dataset/pokemon.csv\n"
     ]
    },
    {
     "data": {
      "text/html": [
       "<div>\n",
       "<style scoped>\n",
       "    .dataframe tbody tr th:only-of-type {\n",
       "        vertical-align: middle;\n",
       "    }\n",
       "\n",
       "    .dataframe tbody tr th {\n",
       "        vertical-align: top;\n",
       "    }\n",
       "\n",
       "    .dataframe thead th {\n",
       "        text-align: right;\n",
       "    }\n",
       "</style>\n",
       "<table border=\"1\" class=\"dataframe\">\n",
       "  <thead>\n",
       "    <tr style=\"text-align: right;\">\n",
       "      <th></th>\n",
       "      <th>name</th>\n",
       "      <th>pokemon_id</th>\n",
       "      <th>type_id</th>\n",
       "      <th>type_slot</th>\n",
       "      <th>type_label</th>\n",
       "    </tr>\n",
       "  </thead>\n",
       "  <tbody>\n",
       "    <tr>\n",
       "      <th>0</th>\n",
       "      <td>bulbasaur</td>\n",
       "      <td>1</td>\n",
       "      <td>12</td>\n",
       "      <td>1</td>\n",
       "      <td>grass</td>\n",
       "    </tr>\n",
       "    <tr>\n",
       "      <th>1</th>\n",
       "      <td>bulbasaur</td>\n",
       "      <td>1</td>\n",
       "      <td>4</td>\n",
       "      <td>2</td>\n",
       "      <td>poison</td>\n",
       "    </tr>\n",
       "    <tr>\n",
       "      <th>2</th>\n",
       "      <td>ivysaur</td>\n",
       "      <td>2</td>\n",
       "      <td>12</td>\n",
       "      <td>1</td>\n",
       "      <td>grass</td>\n",
       "    </tr>\n",
       "    <tr>\n",
       "      <th>3</th>\n",
       "      <td>ivysaur</td>\n",
       "      <td>2</td>\n",
       "      <td>4</td>\n",
       "      <td>2</td>\n",
       "      <td>poison</td>\n",
       "    </tr>\n",
       "    <tr>\n",
       "      <th>4</th>\n",
       "      <td>venusaur</td>\n",
       "      <td>3</td>\n",
       "      <td>12</td>\n",
       "      <td>1</td>\n",
       "      <td>grass</td>\n",
       "    </tr>\n",
       "    <tr>\n",
       "      <th>...</th>\n",
       "      <td>...</td>\n",
       "      <td>...</td>\n",
       "      <td>...</td>\n",
       "      <td>...</td>\n",
       "      <td>...</td>\n",
       "    </tr>\n",
       "    <tr>\n",
       "      <th>1546</th>\n",
       "      <td>iron-crown</td>\n",
       "      <td>1023</td>\n",
       "      <td>9</td>\n",
       "      <td>1</td>\n",
       "      <td>steel</td>\n",
       "    </tr>\n",
       "    <tr>\n",
       "      <th>1547</th>\n",
       "      <td>iron-crown</td>\n",
       "      <td>1023</td>\n",
       "      <td>14</td>\n",
       "      <td>2</td>\n",
       "      <td>psychic</td>\n",
       "    </tr>\n",
       "    <tr>\n",
       "      <th>1548</th>\n",
       "      <td>terapagos</td>\n",
       "      <td>1024</td>\n",
       "      <td>1</td>\n",
       "      <td>1</td>\n",
       "      <td>normal</td>\n",
       "    </tr>\n",
       "    <tr>\n",
       "      <th>1549</th>\n",
       "      <td>pecharunt</td>\n",
       "      <td>1025</td>\n",
       "      <td>4</td>\n",
       "      <td>1</td>\n",
       "      <td>poison</td>\n",
       "    </tr>\n",
       "    <tr>\n",
       "      <th>1550</th>\n",
       "      <td>pecharunt</td>\n",
       "      <td>1025</td>\n",
       "      <td>8</td>\n",
       "      <td>2</td>\n",
       "      <td>ghost</td>\n",
       "    </tr>\n",
       "  </tbody>\n",
       "</table>\n",
       "<p>1551 rows × 5 columns</p>\n",
       "</div>"
      ],
      "text/plain": [
       "            name  pokemon_id  type_id  type_slot type_label\n",
       "0      bulbasaur           1       12          1      grass\n",
       "1      bulbasaur           1        4          2     poison\n",
       "2        ivysaur           2       12          1      grass\n",
       "3        ivysaur           2        4          2     poison\n",
       "4       venusaur           3       12          1      grass\n",
       "...          ...         ...      ...        ...        ...\n",
       "1546  iron-crown        1023        9          1      steel\n",
       "1547  iron-crown        1023       14          2    psychic\n",
       "1548   terapagos        1024        1          1     normal\n",
       "1549   pecharunt        1025        4          1     poison\n",
       "1550   pecharunt        1025        8          2      ghost\n",
       "\n",
       "[1551 rows x 5 columns]"
      ]
     },
     "execution_count": 11,
     "metadata": {},
     "output_type": "execute_result"
    }
   ],
   "source": [
    "# Generate or read the dataset based on the previous checks\n",
    "if generate_dataset:\n",
    "    pokemon_merged = merge_dataset(*clean_source_datasets(*import_data()))\n",
    "else:\n",
    "    print('Reading dataset from {}'.format(dataset_path))\n",
    "    pokemon_merged = pd.read_csv(dataset_path)\n",
    "pokemon_merged"
   ]
  },
  {
   "cell_type": "code",
   "execution_count": 12,
   "metadata": {
    "ExecuteTime": {
     "end_time": "2024-12-15T02:02:47.937242Z",
     "start_time": "2024-12-15T02:02:47.932569Z"
    }
   },
   "outputs": [],
   "source": [
    "# Check if images have already been extracted:\n",
    "images_dir = os.path.join(output_dir, 'images')\n",
    "extract_images = {}\n",
    "pokemon_images_dir = os.path.join(images_dir, 'pokemon')\n",
    "digimon_images_dir = os.path.join(images_dir, 'digimon')\n",
    "extract_images['pokemon'] = not os.path.exists(pokemon_images_dir)\n",
    "extract_images['digimon'] = not os.path.exists(digimon_images_dir)"
   ]
  },
  {
   "cell_type": "code",
   "execution_count": 13,
   "metadata": {
    "ExecuteTime": {
     "end_time": "2024-12-15T02:02:47.990198Z",
     "start_time": "2024-12-15T02:02:47.985037Z"
    }
   },
   "outputs": [],
   "source": [
    "def extract_pokemon_images():\n",
    "    source_images = os.path.join(__pokeAPI_sprites_folder, 'pokemon/other/official-artwork')\n",
    "    poke_image_files = os.listdir(source_images)\n",
    "    print('Preparing {} Pokemon images...'.format(len(poke_image_files)))\n",
    "    os.makedirs(pokemon_images_dir)\n",
    "    # Like the data, images with ID higher than 10000 are not relevant\n",
    "    valid_image_pattern = re.compile(r'^[0-9]{1,4}\\.png')\n",
    "    for file in poke_image_files:\n",
    "        if valid_image_pattern.match(file):\n",
    "            source = os.path.join(source_images, file)\n",
    "            target = os.path.join(pokemon_images_dir, file)\n",
    "            shutil.copy(source, target)\n",
    "            print('Copied {} to {}'.format(file, target))"
   ]
  },
  {
   "cell_type": "code",
   "execution_count": 14,
   "metadata": {
    "ExecuteTime": {
     "end_time": "2024-12-15T02:02:48.287660Z",
     "start_time": "2024-12-15T02:02:48.282883Z"
    }
   },
   "outputs": [],
   "source": [
    "def extract_digimon_images():\n",
    "    digimon_image_files = os.listdir(__digimon_images_folder)\n",
    "    print('Preparing {} Digimon images...'.format(len(digimon_image_files)))\n",
    "    os.makedirs(digimon_images_dir)\n",
    "    for file in digimon_image_files:\n",
    "        source = os.path.join(__digimon_images_folder, file)\n",
    "        target = os.path.join(digimon_images_dir, file)\n",
    "        shutil.copy(source, target)\n",
    "        print('Copied file\\n\\tfrom: {}\\n\\tto: {}'.format(file, target))"
   ]
  },
  {
   "cell_type": "code",
   "execution_count": 15,
   "metadata": {
    "ExecuteTime": {
     "end_time": "2024-12-15T02:02:48.709297Z",
     "start_time": "2024-12-15T02:02:48.703963Z"
    }
   },
   "outputs": [
    {
     "name": "stdout",
     "output_type": "stream",
     "text": [
      "Pokemon images already extracted\n",
      "Digimon images already extracted\n"
     ]
    }
   ],
   "source": [
    "if extract_images['pokemon']:\n",
    "    extract_pokemon_images()\n",
    "else:\n",
    "    print('Pokemon images already extracted')\n",
    "if extract_images['digimon']:\n",
    "    extract_digimon_images()\n",
    "else:\n",
    "    print('Digimon images already extracted')"
   ]
  },
  {
   "cell_type": "markdown",
   "metadata": {},
   "source": [
    "[//] # TODO: Add some visualization here to show some images and maybe some graphs\n",
    "## Dataset Visualization\n",
    "\n",
    "The following graphs give us a small insight into the relationship between Pokemon\n",
    "and types, as well as the distribution of types across all existing Pokemon.\n",
    "\n",
    "The first graph shows the count of Pokemon per type, please note, that Pokemon with\n",
    "two types will be counted once in each type so that the sum of the counts will be\n",
    "greater than the total number of Pokemon. This isn't a problem because we're\n",
    "looking at the distribution of types, not the distribution of Pokemon."
   ]
  },
  {
   "cell_type": "code",
   "execution_count": 16,
   "metadata": {
    "ExecuteTime": {
     "end_time": "2024-12-15T02:02:49.538731Z",
     "start_time": "2024-12-15T02:02:48.945473Z"
    }
   },
   "outputs": [
    {
     "data": {
      "image/png": "[encoded data removed]",
      "text/plain": [
       "<Figure size 500x500 with 1 Axes>"
      ]
     },
     "metadata": {},
     "output_type": "display_data"
    },
    {
     "data": {
      "text/plain": [
       "count     18.000000\n",
       "mean      86.166667\n",
       "std       27.931113\n",
       "min       48.000000\n",
       "25%       69.000000\n",
       "50%       74.500000\n",
       "75%       99.500000\n",
       "max      154.000000\n",
       "Name: count, dtype: float64"
      ]
     },
     "execution_count": 16,
     "metadata": {},
     "output_type": "execute_result"
    }
   ],
   "source": [
    "sns.displot(data=pokemon_merged['type_label'])\n",
    "\n",
    "plt.title('Pokemon Types Distribution')\n",
    "plt.xlabel('Type')\n",
    "plt.ylabel('Amount of Pokemon')\n",
    "plt.xticks(rotation=90)\n",
    "\n",
    "\n",
    "plt.show()\n",
    "pokemon_merged['type_label'].value_counts().describe()"
   ]
  },
  {
   "cell_type": "code",
   "execution_count": 17,
   "metadata": {
    "ExecuteTime": {
     "end_time": "2024-12-15T02:02:49.608456Z",
     "start_time": "2024-12-15T02:02:49.601120Z"
    }
   },
   "outputs": [
    {
     "name": "stdout",
     "output_type": "stream",
     "text": [
      "There are 526 Pokemon with more than one type\n",
      "This is 51.32% of all Pokemon\n"
     ]
    }
   ],
   "source": [
    "# Let's look at how many Pokemon have more than one type\n",
    "all_pokemon = pokemon_merged[pokemon_merged['type_slot'] == 1]\n",
    "multi_type_pokemon = pokemon_merged[pokemon_merged['type_slot'] > 1]\n",
    "\n",
    "all_pokemon_count = all_pokemon.__len__()\n",
    "multi_type_pokemon_count = multi_type_pokemon.__len__()\n",
    "\n",
    "multi_type_percent = (multi_type_pokemon_count / all_pokemon_count) * 100\n",
    "\n",
    "print(f'There are {multi_type_pokemon.__len__()} Pokemon with more than one type')\n",
    "print(f'This is {multi_type_percent:.2f}% of all Pokemon')"
   ]
  },
  {
   "cell_type": "markdown",
   "metadata": {},
   "source": [
    "<!-- [//] # TODO: Do we really account for this? -->\n",
    "The previous calculation shows that 51.32% of all Pokemon have more than one type,\n",
    "this is a more than significant amount of Pokemon that have more than one type,\n",
    "as such, we cannot limit ourselves to guessing only one type per Pokemon, we must\n",
    "be able to guess multiple types per Pokemon.\n",
    "\n"
   ]
  },
  {
   "cell_type": "markdown",
   "metadata": {},
   "source": [
    "<!-- The following is the assignment description for the followning section, hidden from display\n",
    "## 4. Prepare the data\n",
    "Notes:\n",
    "* Work on copies of the data (keep the original dataset intact).\n",
    "* Write functions for all data transformations you apply, for three reasons:\n",
    "    * So you can easily prepare the data the next time you run your code\n",
    "    * So you can apply these transformations in future projects\n",
    "    * To clean and prepare the test set\n",
    "\n",
    "1. Data cleaning:\n",
    "    * Fix or remove outliers (or keep them)\n",
    "    * Fill in missing values (e.g. with zero, mean, median, regression ...) or drop their rows (or columns)\n",
    "2. Feature selection (optional):\n",
    "    * Drop the features that provide no useful information for the task (e.g. a customer ID is usually useless for modelling).\n",
    "3. Feature engineering, where appropriate:\n",
    "    * Discretize continuous features\n",
    "    * Use one-hot encoding if/when relevant\n",
    "    * Add promising transformations of features (e.g. $\\log(x)$, $\\sqrt{x}$, $x^2$, etc)\n",
    "    * Aggregate features into promising new features\n",
    "4. Feature scaling: standardise or normalise features\n",
    "-->\n",
    "## 4. Preparation\n",
    "\n",
    "Our extracted .csv data has already been trimmed to just the necessary columns, so\n",
    "not much will be needed there, since we are dealing with a full dataset there's\n",
    "no missing values to fill, nor does categorical data need to be adjusted for\n",
    "outliers.\n",
    "\n",
    "Thankfully, Pokemon have assinged IDs that are unique and match the images already,\n",
    "as well as the beneficial quirk of starting with normalized data, it gives us already\n",
    "a numerical ID for all types that we very intentionally left in the dataset, thus,\n",
    "we have both labels, and numerical values for all the variables we're interested\n",
    "in our tasks.\n",
    "\n",
    "As such, we can safely move on to processing the images.\n",
    "\n",
    "### Image Processing\n",
    "From our research, images will need two main transformations:\n",
    "- The must be resized to a common smaller size, this means both the Pokemon and\n",
    "Digimon images will have the same size, equalizing our inputs, but also reducing\n",
    "the computational cost of processing the images.\n",
    "- The images can be converted to a uniform image format (PNG in our case) for\n",
    "consistency.\n",
    "\n",
    "Additional optimizations have been made to the images, such as adding a white\n",
    "background to the PNG images with transparency, this is to ensure that the\n",
    "model can't fixate itself on the transparency of the images, as well as to\n",
    "ensure that the images are all as uniform as possible, removing as much possible\n",
    "bias as possible from the images."
   ]
  },
  {
   "cell_type": "code",
   "execution_count": 18,
   "metadata": {
    "ExecuteTime": {
     "end_time": "2024-12-15T02:02:49.738607Z",
     "start_time": "2024-12-15T02:02:49.680734Z"
    }
   },
   "outputs": [
    {
     "name": "stdout",
     "output_type": "stream",
     "text": [
      "The output folder ./Dataset/pre-processed is not empty. Skipping resizing.\n"
     ]
    }
   ],
   "source": [
    "from PIL import Image\n",
    "import os\n",
    "\n",
    "# Configuration\n",
    "final_img_dir = os.path.join(output_dir, 'pre-processed')\n",
    "# The following tuple defines the final resolution of the images\n",
    "new_size = (128, 128)\n",
    "\n",
    "pkm_output = os.path.join(final_img_dir, 'pokemon')\n",
    "dmn_output = os.path.join(final_img_dir, 'digimon')\n",
    "\n",
    "# Ensure output folder exists\n",
    "os.makedirs(final_img_dir, exist_ok=True)\n",
    "os.makedirs(pkm_output, exist_ok=True)\n",
    "os.makedirs(dmn_output, exist_ok=True)\n",
    "\n",
    "def resize_images(input_folder, output_folder, size):\n",
    "    for filename in os.listdir(input_folder):\n",
    "        input_path = os.path.join(input_folder, filename)\n",
    "        output_path = os.path.join(output_folder, filename)\n",
    "        file_extension = os.path.splitext(filename)[1].lower()\n",
    "        try:\n",
    "            with Image.open(input_path) as img:\n",
    "                img.thumbnail(size)  # Resizes while maintaining aspect ratio\n",
    "                if file_extension in ['.jpg', '.jpeg']:\n",
    "                    img = img.convert('RGB')  # Ensure JPEG images are in RGB mode\n",
    "                    output_path = os.path.splitext(output_path)[0] + '.png'  # Change extension to .png\n",
    "                    img.save(output_path, 'PNG', icc_profile=None)\n",
    "                else:\n",
    "                    img = img.convert('RGBA')\n",
    "                    # Create a white background\n",
    "                    background = Image.new('RGBA', img.size, (255, 255, 255, 255))\n",
    "                    # Composite the image with the white background\n",
    "                    img = Image.alpha_composite(background, img).convert('RGB')\n",
    "                    img.save(output_path, 'PNG', icc_profile=None)\n",
    "                print(f\"Resized and saved: {filename}\")\n",
    "        except Exception as e:\n",
    "            print(f\"Failed to process {filename}: {e}\")\n",
    "\n",
    "# Check if output_folder is empty\n",
    "if not os.listdir(pkm_output) and not os.listdir(dmn_output):\n",
    "    print(f\"The output folder {final_img_dir} is empty. Resizing images.\")\n",
    "    resize_images(pokemon_images_dir, pkm_output, new_size)\n",
    "    resize_images(digimon_images_dir, dmn_output, new_size)\n",
    "else:\n",
    "    print(f\"The output folder {final_img_dir} is not empty. Skipping resizing.\")\n",
    "# resize_images(pokemon_images_dir, os.path.join(final_img_dir, 'pokemon'), new_size)\n",
    "# resize_images(digimon_images_dir, os.path.join(final_img_dir, 'digimon'), new_size)\n"
   ]
  },
  {
   "cell_type": "markdown",
   "metadata": {},
   "source": [
    " <!-- The following is the assignment description for the followning section, hidden from display\n",
    "## 5. Short-list promising models\n",
    "We expect you to do some additional research and train at **least one model per team member**.\n",
    "\n",
    "1. Train mainly quick and dirty models from different categories (e.g. linear, SVM, Random Forests etc) using default parameters\n",
    "2. Measure and compare their performance\n",
    "3. Analyse the most significant variables for each algorithm\n",
    "4. Analyse the types of errors the models make\n",
    "5. Have a quick round of feature selection and engineering if necessary\n",
    "6. Have one or two more quick iterations of the five previous steps\n",
    "7. Short-list the top three to five most promising models, preferring models that make different types of errors\n",
    "-->\n",
    "<!-- [//] # TODO: This is where we train two models !!! One for each task OR remove one of the tasks? -->\n",
    "## 5. Promising models test\n",
    "\n",
    "Image classification is a well-known problem in the field of machine learning,\n",
    "and probably one of the most widely used applications of machine learning. As\n",
    "such, we can deduce that the most commonly used models for image classification\n",
    "will be the most promising for our task. Support Vector Machines and Neural Networks\n",
    "are the most commonly used models for image classification, however, SVM\n",
    "specifically is not well-suited as it is best suited for problems of linear\n",
    "classification.\n",
    "\n",
    "Neural Networks are a much more versatile model, and they can be used for a wide\n",
    "variety of tasks, including image classification. Convolutional Neural Networks\n",
    "are a type of neural network that is almost synonymous with image classification,\n",
    "being the most common model used for these kind of tasks, however, for the purpose\n",
    "of verifying this idea, we will test a simple Feedforward Neural Network and a\n",
    "Convolutional Neural Network to see which one performs better.\n",
    "\n",
    "## Final Dataset Preparation\n",
    "Before we actually, begin working with the data, we need to prepare it in such a\n",
    "way that the models can easily process them. Keras, a utility within TensorFlow\n",
    "allows us to quickly preprocess and prepare the data for Neural Network training.\n",
    "\n",
    "We will ensure images are the right size (although they've already been resized)\n",
    "and define the other parameters so that we can train several neural networks"
   ]
  },
  {
   "cell_type": "code",
   "execution_count": 19,
   "metadata": {
    "ExecuteTime": {
     "end_time": "2024-12-15T02:02:49.970428Z",
     "start_time": "2024-12-15T02:02:49.967301Z"
    }
   },
   "outputs": [],
   "source": [
    "# Dataset properties\n",
    "IMG_SIZE = 128\n",
    "BATCH_SIZE = 32\n",
    "BUFFER_SIZE = 2000"
   ]
  },
  {
   "cell_type": "code",
   "execution_count": 20,
   "metadata": {
    "ExecuteTime": {
     "end_time": "2024-12-15T02:02:50.163148Z",
     "start_time": "2024-12-15T02:02:50.157280Z"
    }
   },
   "outputs": [],
   "source": [
    "# Declare a function to load data\n",
    "def data_loader(path, subset):\n",
    "    if subset:\n",
    "        return tf.keras.preprocessing.image_dataset_from_directory(\n",
    "            path,\n",
    "            interpolation='area',\n",
    "            validation_split=0.2,\n",
    "            subset=subset,\n",
    "            shuffle=True,\n",
    "            seed=123,\n",
    "            image_size=(IMG_SIZE, IMG_SIZE),\n",
    "            batch_size=BATCH_SIZE\n",
    "        )\n",
    "    else:\n",
    "        return tf.keras.preprocessing.image_dataset_from_directory(\n",
    "            path,\n",
    "            interpolation='area',\n",
    "            shuffle=True,\n",
    "            seed=123,\n",
    "            image_size=(IMG_SIZE, IMG_SIZE),\n",
    "            batch_size=BATCH_SIZE\n",
    "        )"
   ]
  },
  {
   "cell_type": "code",
   "execution_count": 21,
   "metadata": {
    "ExecuteTime": {
     "end_time": "2024-12-15T02:02:53.015657Z",
     "start_time": "2024-12-15T02:02:50.247734Z"
    }
   },
   "outputs": [
    {
     "name": "stdout",
     "output_type": "stream",
     "text": [
      "Found 2152 files belonging to 2 classes.\n",
      "Using 1722 files for training.\n",
      "Found 2152 files belonging to 2 classes.\n",
      "Using 430 files for validation.\n",
      "Found 2152 files belonging to 2 classes.\n"
     ]
    }
   ],
   "source": [
    "# Split the dataset into appropriate portions\n",
    "train_ds = data_loader(final_img_dir, 'training')\n",
    "\n",
    "val_ds = data_loader(final_img_dir, 'validation')\n",
    "\n",
    "test_ds = data_loader(final_img_dir, None)"
   ]
  },
  {
   "cell_type": "markdown",
   "metadata": {},
   "source": [
    "### FNN\n",
    "#### Load the data\n",
    "We will mainly use Tensorflow and Keras to build our models, as they are the most\n",
    "widely used and de-facto standard for building neural networks. We will start by\n",
    "loading the data and then building the model."
   ]
  },
  {
   "cell_type": "code",
   "execution_count": 22,
   "metadata": {
    "ExecuteTime": {
     "end_time": "2024-12-15T02:02:53.989477Z",
     "start_time": "2024-12-15T02:02:53.035645Z"
    }
   },
   "outputs": [
    {
     "data": {
      "text/html": [
       "<pre style=\"white-space:pre;overflow-x:auto;line-height:normal;font-family:Menlo,'DejaVu Sans Mono',consolas,'Courier New',monospace\"><span style=\"font-weight: bold\">Model: \"FNN_Test\"</span>\n",
       "</pre>\n"
      ],
      "text/plain": [
       "\u001b[1mModel: \"FNN_Test\"\u001b[0m\n"
      ]
     },
     "metadata": {},
     "output_type": "display_data"
    },
    {
     "data": {
      "text/html": [
       "<pre style=\"white-space:pre;overflow-x:auto;line-height:normal;font-family:Menlo,'DejaVu Sans Mono',consolas,'Courier New',monospace\">┏━━━━━━━━━━━━━━━━━━━━━━━━━━━━━━━━━┳━━━━━━━━━━━━━━━━━━━━━━━━┳━━━━━━━━━━━━━━━┓\n",
       "┃<span style=\"font-weight: bold\"> Layer (type)                    </span>┃<span style=\"font-weight: bold\"> Output Shape           </span>┃<span style=\"font-weight: bold\">       Param # </span>┃\n",
       "┡━━━━━━━━━━━━━━━━━━━━━━━━━━━━━━━━━╇━━━━━━━━━━━━━━━━━━━━━━━━╇━━━━━━━━━━━━━━━┩\n",
       "│ rescaling (<span style=\"color: #0087ff; text-decoration-color: #0087ff\">Rescaling</span>)           │ (<span style=\"color: #00d7ff; text-decoration-color: #00d7ff\">None</span>, <span style=\"color: #00af00; text-decoration-color: #00af00\">128</span>, <span style=\"color: #00af00; text-decoration-color: #00af00\">128</span>, <span style=\"color: #00af00; text-decoration-color: #00af00\">3</span>)    │             <span style=\"color: #00af00; text-decoration-color: #00af00\">0</span> │\n",
       "├─────────────────────────────────┼────────────────────────┼───────────────┤\n",
       "│ flatten (<span style=\"color: #0087ff; text-decoration-color: #0087ff\">Flatten</span>)               │ (<span style=\"color: #00d7ff; text-decoration-color: #00d7ff\">None</span>, <span style=\"color: #00af00; text-decoration-color: #00af00\">49152</span>)          │             <span style=\"color: #00af00; text-decoration-color: #00af00\">0</span> │\n",
       "├─────────────────────────────────┼────────────────────────┼───────────────┤\n",
       "│ dense (<span style=\"color: #0087ff; text-decoration-color: #0087ff\">Dense</span>)                   │ (<span style=\"color: #00d7ff; text-decoration-color: #00d7ff\">None</span>, <span style=\"color: #00af00; text-decoration-color: #00af00\">512</span>)            │    <span style=\"color: #00af00; text-decoration-color: #00af00\">25,166,336</span> │\n",
       "├─────────────────────────────────┼────────────────────────┼───────────────┤\n",
       "│ dropout (<span style=\"color: #0087ff; text-decoration-color: #0087ff\">Dropout</span>)               │ (<span style=\"color: #00d7ff; text-decoration-color: #00d7ff\">None</span>, <span style=\"color: #00af00; text-decoration-color: #00af00\">512</span>)            │             <span style=\"color: #00af00; text-decoration-color: #00af00\">0</span> │\n",
       "├─────────────────────────────────┼────────────────────────┼───────────────┤\n",
       "│ dense_1 (<span style=\"color: #0087ff; text-decoration-color: #0087ff\">Dense</span>)                 │ (<span style=\"color: #00d7ff; text-decoration-color: #00d7ff\">None</span>, <span style=\"color: #00af00; text-decoration-color: #00af00\">256</span>)            │       <span style=\"color: #00af00; text-decoration-color: #00af00\">131,328</span> │\n",
       "├─────────────────────────────────┼────────────────────────┼───────────────┤\n",
       "│ dropout_1 (<span style=\"color: #0087ff; text-decoration-color: #0087ff\">Dropout</span>)             │ (<span style=\"color: #00d7ff; text-decoration-color: #00d7ff\">None</span>, <span style=\"color: #00af00; text-decoration-color: #00af00\">256</span>)            │             <span style=\"color: #00af00; text-decoration-color: #00af00\">0</span> │\n",
       "├─────────────────────────────────┼────────────────────────┼───────────────┤\n",
       "│ dense_2 (<span style=\"color: #0087ff; text-decoration-color: #0087ff\">Dense</span>)                 │ (<span style=\"color: #00d7ff; text-decoration-color: #00d7ff\">None</span>, <span style=\"color: #00af00; text-decoration-color: #00af00\">1</span>)              │           <span style=\"color: #00af00; text-decoration-color: #00af00\">257</span> │\n",
       "└─────────────────────────────────┴────────────────────────┴───────────────┘\n",
       "</pre>\n"
      ],
      "text/plain": [
       "┏━━━━━━━━━━━━━━━━━━━━━━━━━━━━━━━━━┳━━━━━━━━━━━━━━━━━━━━━━━━┳━━━━━━━━━━━━━━━┓\n",
       "┃\u001b[1m \u001b[0m\u001b[1mLayer (type)                   \u001b[0m\u001b[1m \u001b[0m┃\u001b[1m \u001b[0m\u001b[1mOutput Shape          \u001b[0m\u001b[1m \u001b[0m┃\u001b[1m \u001b[0m\u001b[1m      Param #\u001b[0m\u001b[1m \u001b[0m┃\n",
       "┡━━━━━━━━━━━━━━━━━━━━━━━━━━━━━━━━━╇━━━━━━━━━━━━━━━━━━━━━━━━╇━━━━━━━━━━━━━━━┩\n",
       "│ rescaling (\u001b[38;5;33mRescaling\u001b[0m)           │ (\u001b[38;5;45mNone\u001b[0m, \u001b[38;5;34m128\u001b[0m, \u001b[38;5;34m128\u001b[0m, \u001b[38;5;34m3\u001b[0m)    │             \u001b[38;5;34m0\u001b[0m │\n",
       "├─────────────────────────────────┼────────────────────────┼───────────────┤\n",
       "│ flatten (\u001b[38;5;33mFlatten\u001b[0m)               │ (\u001b[38;5;45mNone\u001b[0m, \u001b[38;5;34m49152\u001b[0m)          │             \u001b[38;5;34m0\u001b[0m │\n",
       "├─────────────────────────────────┼────────────────────────┼───────────────┤\n",
       "│ dense (\u001b[38;5;33mDense\u001b[0m)                   │ (\u001b[38;5;45mNone\u001b[0m, \u001b[38;5;34m512\u001b[0m)            │    \u001b[38;5;34m25,166,336\u001b[0m │\n",
       "├─────────────────────────────────┼────────────────────────┼───────────────┤\n",
       "│ dropout (\u001b[38;5;33mDropout\u001b[0m)               │ (\u001b[38;5;45mNone\u001b[0m, \u001b[38;5;34m512\u001b[0m)            │             \u001b[38;5;34m0\u001b[0m │\n",
       "├─────────────────────────────────┼────────────────────────┼───────────────┤\n",
       "│ dense_1 (\u001b[38;5;33mDense\u001b[0m)                 │ (\u001b[38;5;45mNone\u001b[0m, \u001b[38;5;34m256\u001b[0m)            │       \u001b[38;5;34m131,328\u001b[0m │\n",
       "├─────────────────────────────────┼────────────────────────┼───────────────┤\n",
       "│ dropout_1 (\u001b[38;5;33mDropout\u001b[0m)             │ (\u001b[38;5;45mNone\u001b[0m, \u001b[38;5;34m256\u001b[0m)            │             \u001b[38;5;34m0\u001b[0m │\n",
       "├─────────────────────────────────┼────────────────────────┼───────────────┤\n",
       "│ dense_2 (\u001b[38;5;33mDense\u001b[0m)                 │ (\u001b[38;5;45mNone\u001b[0m, \u001b[38;5;34m1\u001b[0m)              │           \u001b[38;5;34m257\u001b[0m │\n",
       "└─────────────────────────────────┴────────────────────────┴───────────────┘\n"
      ]
     },
     "metadata": {},
     "output_type": "display_data"
    },
    {
     "data": {
      "text/html": [
       "<pre style=\"white-space:pre;overflow-x:auto;line-height:normal;font-family:Menlo,'DejaVu Sans Mono',consolas,'Courier New',monospace\"><span style=\"font-weight: bold\"> Total params: </span><span style=\"color: #00af00; text-decoration-color: #00af00\">25,297,921</span> (96.50 MB)\n",
       "</pre>\n"
      ],
      "text/plain": [
       "\u001b[1m Total params: \u001b[0m\u001b[38;5;34m25,297,921\u001b[0m (96.50 MB)\n"
      ]
     },
     "metadata": {},
     "output_type": "display_data"
    },
    {
     "data": {
      "text/html": [
       "<pre style=\"white-space:pre;overflow-x:auto;line-height:normal;font-family:Menlo,'DejaVu Sans Mono',consolas,'Courier New',monospace\"><span style=\"font-weight: bold\"> Trainable params: </span><span style=\"color: #00af00; text-decoration-color: #00af00\">25,297,921</span> (96.50 MB)\n",
       "</pre>\n"
      ],
      "text/plain": [
       "\u001b[1m Trainable params: \u001b[0m\u001b[38;5;34m25,297,921\u001b[0m (96.50 MB)\n"
      ]
     },
     "metadata": {},
     "output_type": "display_data"
    },
    {
     "data": {
      "text/html": [
       "<pre style=\"white-space:pre;overflow-x:auto;line-height:normal;font-family:Menlo,'DejaVu Sans Mono',consolas,'Courier New',monospace\"><span style=\"font-weight: bold\"> Non-trainable params: </span><span style=\"color: #00af00; text-decoration-color: #00af00\">0</span> (0.00 B)\n",
       "</pre>\n"
      ],
      "text/plain": [
       "\u001b[1m Non-trainable params: \u001b[0m\u001b[38;5;34m0\u001b[0m (0.00 B)\n"
      ]
     },
     "metadata": {},
     "output_type": "display_data"
    }
   ],
   "source": [
    "# Build Feedforward neural network\n",
    "fnn_model = models.Sequential([\n",
    "    layers.Input(shape=(IMG_SIZE, IMG_SIZE, 3)), # 3 channels for RGB\n",
    "    layers.Rescaling(1./255), # normalize pixel values to [0, 1]\n",
    "    layers.Flatten(), # flatten the 128x128x3 input images\n",
    "    layers.Dense(512, activation='relu'), # fully connected layer with 512 units and ReLU activation\n",
    "    layers.Dropout(0.25), # dropout layer to prevent overfitting, drops 25% of the units\n",
    "    layers.Dense(256, activation='relu'), # fully connected layer with 256 units and ReLU activation\n",
    "    layers.Dropout(0.125), # dropout layer to prevent overfitting, drops 12.5% of the units\n",
    "    layers.Dense(1, activation='sigmoid') # output layer with 1 unit and sigmoid activation for binary classification\n",
    "], name='FNN_Test')\n",
    "\n",
    "# compile model\n",
    "fnn_model.compile(\n",
    "    optimizer=tf.keras.optimizers.Adam(learning_rate=0.0001),\n",
    "    loss='binary_crossentropy',\n",
    "    metrics=['accuracy', 'Precision', 'Recall', 'AUC'],\n",
    "    jit_compile=False\n",
    ")\n",
    "\n",
    "# inspect model\n",
    "fnn_model.summary()"
   ]
  },
  {
   "cell_type": "code",
   "execution_count": 23,
   "metadata": {
    "ExecuteTime": {
     "end_time": "2024-12-15T02:03:40.037635Z",
     "start_time": "2024-12-15T02:02:54.023893Z"
    }
   },
   "outputs": [
    {
     "name": "stdout",
     "output_type": "stream",
     "text": [
      "Epoch 1/25\n",
      "\u001b[1m54/62\u001b[0m \u001b[32m━━━━━━━━━━━━━━━━━\u001b[0m\u001b[37m━━━\u001b[0m \u001b[1m0s\u001b[0m 103ms/step - AUC: 0.4954 - Precision: 0.4803 - Recall: 0.5029 - accuracy: 0.4974 - loss: 2.2914"
     ]
    },
    {
     "name": "stderr",
     "output_type": "stream",
     "text": [
      "/Users/hmp/Documents/VIA/6th/MAL/Final Group Project/.venv/lib/python3.12/site-packages/keras/src/trainers/epoch_iterator.py:107: UserWarning: Your input ran out of data; interrupting training. Make sure that your dataset or generator can generate at least `steps_per_epoch * epochs` batches. You may need to use the `.repeat()` function when building your dataset.\n",
      "  self._interrupted_warning()\n"
     ]
    },
    {
     "name": "stdout",
     "output_type": "stream",
     "text": [
      "\u001b[1m62/62\u001b[0m \u001b[32m━━━━━━━━━━━━━━━━━━━━\u001b[0m\u001b[37m\u001b[0m \u001b[1m7s\u001b[0m 104ms/step - AUC: 0.4957 - Precision: 0.4808 - Recall: 0.5017 - accuracy: 0.4985 - loss: 2.2183 - val_AUC: 0.7115 - val_Precision: 0.6508 - val_Recall: 0.4059 - val_accuracy: 0.6186 - val_loss: 0.6409\n",
      "Epoch 2/25\n",
      "\u001b[1m62/62\u001b[0m \u001b[32m━━━━━━━━━━━━━━━━━━━━\u001b[0m\u001b[37m\u001b[0m \u001b[1m7s\u001b[0m 117ms/step - AUC: 0.5800 - Precision: 0.5557 - Recall: 0.5495 - accuracy: 0.5696 - loss: 0.8712 - val_AUC: 0.6805 - val_Precision: 0.0000e+00 - val_Recall: 0.0000e+00 - val_accuracy: 0.5233 - val_loss: 0.6823\n",
      "Epoch 3/25\n",
      "\u001b[1m62/62\u001b[0m \u001b[32m━━━━━━━━━━━━━━━━━━━━\u001b[0m\u001b[37m\u001b[0m \u001b[1m7s\u001b[0m 109ms/step - AUC: 0.5565 - Precision: 0.5296 - Recall: 0.5665 - accuracy: 0.5407 - loss: 0.7209 - val_AUC: 0.7153 - val_Precision: 0.4938 - val_Recall: 0.9901 - val_accuracy: 0.5186 - val_loss: 0.6851\n",
      "Epoch 4/25\n",
      "\u001b[1m62/62\u001b[0m \u001b[32m━━━━━━━━━━━━━━━━━━━━\u001b[0m\u001b[37m\u001b[0m \u001b[1m7s\u001b[0m 109ms/step - AUC: 0.5745 - Precision: 0.5120 - Recall: 0.6226 - accuracy: 0.5403 - loss: 0.6897 - val_AUC: 0.7106 - val_Precision: 0.4833 - val_Recall: 1.0000 - val_accuracy: 0.4977 - val_loss: 0.6888\n",
      "Epoch 5/25\n",
      "\u001b[1m62/62\u001b[0m \u001b[32m━━━━━━━━━━━━━━━━━━━━\u001b[0m\u001b[37m\u001b[0m \u001b[1m7s\u001b[0m 107ms/step - AUC: 0.5485 - Precision: 0.4983 - Recall: 0.5114 - accuracy: 0.5196 - loss: 0.6905 - val_AUC: 0.4956 - val_Precision: 0.0000e+00 - val_Recall: 0.0000e+00 - val_accuracy: 0.5302 - val_loss: 0.6925\n",
      "Epoch 6/25\n",
      "\u001b[1m62/62\u001b[0m \u001b[32m━━━━━━━━━━━━━━━━━━━━\u001b[0m\u001b[37m\u001b[0m \u001b[1m6s\u001b[0m 92ms/step - AUC: 0.4950 - Precision: 0.0000e+00 - Recall: 0.0000e+00 - accuracy: 0.5208 - loss: 0.6927 - val_AUC: 0.4890 - val_Precision: 0.0000e+00 - val_Recall: 0.0000e+00 - val_accuracy: 0.5302 - val_loss: 0.6923\n",
      "Epoch 6: early stopping\n",
      "Restoring model weights from the end of the best epoch: 1.\n",
      "\u001b[1m68/68\u001b[0m \u001b[32m━━━━━━━━━━━━━━━━━━━━\u001b[0m\u001b[37m\u001b[0m \u001b[1m1s\u001b[0m 14ms/step - AUC: 0.7233 - Precision: 0.7173 - Recall: 0.4554 - accuracy: 0.6507 - loss: 0.6355\n",
      "\n",
      "Test accuracy: 0.6417\n",
      "Test precision: 0.6936\n",
      "Test recall: 0.4439\n",
      "Test F1: 0.5413\n",
      "Test AUC: 0.7196\n"
     ]
    }
   ],
   "source": [
    "# stop when val_accuracy doesnt improve\n",
    "early_stopping = tf.keras.callbacks.EarlyStopping(\n",
    "    monitor='val_accuracy',\n",
    "    patience=5,\n",
    "    restore_best_weights=True,\n",
    "    verbose=1\n",
    ")\n",
    "\n",
    "training = fnn_model.fit(\n",
    "    train_ds,  # Repeat the dataset\n",
    "    validation_data=val_ds,\n",
    "    epochs=25,\n",
    "    steps_per_epoch=2000 // BATCH_SIZE,\n",
    "    callbacks=[early_stopping]\n",
    ")\n",
    "\n",
    "# evaluate on test set\n",
    "test_loss, test_acc, test_precision, test_recall, test_auc = fnn_model.evaluate(test_ds)\n",
    "print(f\"\\nTest accuracy: {test_acc:.4f}\")\n",
    "print(f\"Test precision: {test_precision:.4f}\")\n",
    "print(f\"Test recall: {test_recall:.4f}\")\n",
    "print(f\"Test F1: {statistics.harmonic_mean([test_precision, test_recall]):.4f}\")\n",
    "print(f\"Test AUC: {test_auc:.4f}\")\n",
    "# print(f\"Test loss: {test_loss:.4f}\")"
   ]
  },
  {
   "cell_type": "markdown",
   "metadata": {},
   "source": [
    "### CNN\n",
    "A simple FNN is a good enough start so we can work through adding Convolution\n",
    "into our Neural Network to see if we can get better results, with this, the new\n",
    "Neural Network will hopefully perform better, since images have enormous\n",
    "dimensionality, convolution can help reduce it and thus allow the system to make\n",
    "more accurate predictions for less computational cost"
   ]
  },
  {
   "cell_type": "code",
   "execution_count": 24,
   "metadata": {
    "ExecuteTime": {
     "end_time": "2024-12-15T02:04:54.651283Z",
     "start_time": "2024-12-15T02:04:54.568692Z"
    }
   },
   "outputs": [
    {
     "data": {
      "text/html": [
       "<pre style=\"white-space:pre;overflow-x:auto;line-height:normal;font-family:Menlo,'DejaVu Sans Mono',consolas,'Courier New',monospace\"><span style=\"font-weight: bold\">Model: \"CNN_Test\"</span>\n",
       "</pre>\n"
      ],
      "text/plain": [
       "\u001b[1mModel: \"CNN_Test\"\u001b[0m\n"
      ]
     },
     "metadata": {},
     "output_type": "display_data"
    },
    {
     "data": {
      "text/html": [
       "<pre style=\"white-space:pre;overflow-x:auto;line-height:normal;font-family:Menlo,'DejaVu Sans Mono',consolas,'Courier New',monospace\">┏━━━━━━━━━━━━━━━━━━━━━━━━━━━━━━━━━┳━━━━━━━━━━━━━━━━━━━━━━━━┳━━━━━━━━━━━━━━━┓\n",
       "┃<span style=\"font-weight: bold\"> Layer (type)                    </span>┃<span style=\"font-weight: bold\"> Output Shape           </span>┃<span style=\"font-weight: bold\">       Param # </span>┃\n",
       "┡━━━━━━━━━━━━━━━━━━━━━━━━━━━━━━━━━╇━━━━━━━━━━━━━━━━━━━━━━━━╇━━━━━━━━━━━━━━━┩\n",
       "│ rescaling_1 (<span style=\"color: #0087ff; text-decoration-color: #0087ff\">Rescaling</span>)         │ (<span style=\"color: #00d7ff; text-decoration-color: #00d7ff\">None</span>, <span style=\"color: #00af00; text-decoration-color: #00af00\">128</span>, <span style=\"color: #00af00; text-decoration-color: #00af00\">128</span>, <span style=\"color: #00af00; text-decoration-color: #00af00\">3</span>)    │             <span style=\"color: #00af00; text-decoration-color: #00af00\">0</span> │\n",
       "├─────────────────────────────────┼────────────────────────┼───────────────┤\n",
       "│ conv2d (<span style=\"color: #0087ff; text-decoration-color: #0087ff\">Conv2D</span>)                 │ (<span style=\"color: #00d7ff; text-decoration-color: #00d7ff\">None</span>, <span style=\"color: #00af00; text-decoration-color: #00af00\">128</span>, <span style=\"color: #00af00; text-decoration-color: #00af00\">128</span>, <span style=\"color: #00af00; text-decoration-color: #00af00\">128</span>)  │         <span style=\"color: #00af00; text-decoration-color: #00af00\">3,584</span> │\n",
       "├─────────────────────────────────┼────────────────────────┼───────────────┤\n",
       "│ max_pooling2d (<span style=\"color: #0087ff; text-decoration-color: #0087ff\">MaxPooling2D</span>)    │ (<span style=\"color: #00d7ff; text-decoration-color: #00d7ff\">None</span>, <span style=\"color: #00af00; text-decoration-color: #00af00\">64</span>, <span style=\"color: #00af00; text-decoration-color: #00af00\">64</span>, <span style=\"color: #00af00; text-decoration-color: #00af00\">128</span>)    │             <span style=\"color: #00af00; text-decoration-color: #00af00\">0</span> │\n",
       "├─────────────────────────────────┼────────────────────────┼───────────────┤\n",
       "│ batch_normalization             │ (<span style=\"color: #00d7ff; text-decoration-color: #00d7ff\">None</span>, <span style=\"color: #00af00; text-decoration-color: #00af00\">64</span>, <span style=\"color: #00af00; text-decoration-color: #00af00\">64</span>, <span style=\"color: #00af00; text-decoration-color: #00af00\">128</span>)    │           <span style=\"color: #00af00; text-decoration-color: #00af00\">512</span> │\n",
       "│ (<span style=\"color: #0087ff; text-decoration-color: #0087ff\">BatchNormalization</span>)            │                        │               │\n",
       "├─────────────────────────────────┼────────────────────────┼───────────────┤\n",
       "│ global_average_pooling2d        │ (<span style=\"color: #00d7ff; text-decoration-color: #00d7ff\">None</span>, <span style=\"color: #00af00; text-decoration-color: #00af00\">128</span>)            │             <span style=\"color: #00af00; text-decoration-color: #00af00\">0</span> │\n",
       "│ (<span style=\"color: #0087ff; text-decoration-color: #0087ff\">GlobalAveragePooling2D</span>)        │                        │               │\n",
       "├─────────────────────────────────┼────────────────────────┼───────────────┤\n",
       "│ dense_3 (<span style=\"color: #0087ff; text-decoration-color: #0087ff\">Dense</span>)                 │ (<span style=\"color: #00d7ff; text-decoration-color: #00d7ff\">None</span>, <span style=\"color: #00af00; text-decoration-color: #00af00\">256</span>)            │        <span style=\"color: #00af00; text-decoration-color: #00af00\">33,024</span> │\n",
       "├─────────────────────────────────┼────────────────────────┼───────────────┤\n",
       "│ dropout_2 (<span style=\"color: #0087ff; text-decoration-color: #0087ff\">Dropout</span>)             │ (<span style=\"color: #00d7ff; text-decoration-color: #00d7ff\">None</span>, <span style=\"color: #00af00; text-decoration-color: #00af00\">256</span>)            │             <span style=\"color: #00af00; text-decoration-color: #00af00\">0</span> │\n",
       "├─────────────────────────────────┼────────────────────────┼───────────────┤\n",
       "│ dense_4 (<span style=\"color: #0087ff; text-decoration-color: #0087ff\">Dense</span>)                 │ (<span style=\"color: #00d7ff; text-decoration-color: #00d7ff\">None</span>, <span style=\"color: #00af00; text-decoration-color: #00af00\">1</span>)              │           <span style=\"color: #00af00; text-decoration-color: #00af00\">257</span> │\n",
       "└─────────────────────────────────┴────────────────────────┴───────────────┘\n",
       "</pre>\n"
      ],
      "text/plain": [
       "┏━━━━━━━━━━━━━━━━━━━━━━━━━━━━━━━━━┳━━━━━━━━━━━━━━━━━━━━━━━━┳━━━━━━━━━━━━━━━┓\n",
       "┃\u001b[1m \u001b[0m\u001b[1mLayer (type)                   \u001b[0m\u001b[1m \u001b[0m┃\u001b[1m \u001b[0m\u001b[1mOutput Shape          \u001b[0m\u001b[1m \u001b[0m┃\u001b[1m \u001b[0m\u001b[1m      Param #\u001b[0m\u001b[1m \u001b[0m┃\n",
       "┡━━━━━━━━━━━━━━━━━━━━━━━━━━━━━━━━━╇━━━━━━━━━━━━━━━━━━━━━━━━╇━━━━━━━━━━━━━━━┩\n",
       "│ rescaling_1 (\u001b[38;5;33mRescaling\u001b[0m)         │ (\u001b[38;5;45mNone\u001b[0m, \u001b[38;5;34m128\u001b[0m, \u001b[38;5;34m128\u001b[0m, \u001b[38;5;34m3\u001b[0m)    │             \u001b[38;5;34m0\u001b[0m │\n",
       "├─────────────────────────────────┼────────────────────────┼───────────────┤\n",
       "│ conv2d (\u001b[38;5;33mConv2D\u001b[0m)                 │ (\u001b[38;5;45mNone\u001b[0m, \u001b[38;5;34m128\u001b[0m, \u001b[38;5;34m128\u001b[0m, \u001b[38;5;34m128\u001b[0m)  │         \u001b[38;5;34m3,584\u001b[0m │\n",
       "├─────────────────────────────────┼────────────────────────┼───────────────┤\n",
       "│ max_pooling2d (\u001b[38;5;33mMaxPooling2D\u001b[0m)    │ (\u001b[38;5;45mNone\u001b[0m, \u001b[38;5;34m64\u001b[0m, \u001b[38;5;34m64\u001b[0m, \u001b[38;5;34m128\u001b[0m)    │             \u001b[38;5;34m0\u001b[0m │\n",
       "├─────────────────────────────────┼────────────────────────┼───────────────┤\n",
       "│ batch_normalization             │ (\u001b[38;5;45mNone\u001b[0m, \u001b[38;5;34m64\u001b[0m, \u001b[38;5;34m64\u001b[0m, \u001b[38;5;34m128\u001b[0m)    │           \u001b[38;5;34m512\u001b[0m │\n",
       "│ (\u001b[38;5;33mBatchNormalization\u001b[0m)            │                        │               │\n",
       "├─────────────────────────────────┼────────────────────────┼───────────────┤\n",
       "│ global_average_pooling2d        │ (\u001b[38;5;45mNone\u001b[0m, \u001b[38;5;34m128\u001b[0m)            │             \u001b[38;5;34m0\u001b[0m │\n",
       "│ (\u001b[38;5;33mGlobalAveragePooling2D\u001b[0m)        │                        │               │\n",
       "├─────────────────────────────────┼────────────────────────┼───────────────┤\n",
       "│ dense_3 (\u001b[38;5;33mDense\u001b[0m)                 │ (\u001b[38;5;45mNone\u001b[0m, \u001b[38;5;34m256\u001b[0m)            │        \u001b[38;5;34m33,024\u001b[0m │\n",
       "├─────────────────────────────────┼────────────────────────┼───────────────┤\n",
       "│ dropout_2 (\u001b[38;5;33mDropout\u001b[0m)             │ (\u001b[38;5;45mNone\u001b[0m, \u001b[38;5;34m256\u001b[0m)            │             \u001b[38;5;34m0\u001b[0m │\n",
       "├─────────────────────────────────┼────────────────────────┼───────────────┤\n",
       "│ dense_4 (\u001b[38;5;33mDense\u001b[0m)                 │ (\u001b[38;5;45mNone\u001b[0m, \u001b[38;5;34m1\u001b[0m)              │           \u001b[38;5;34m257\u001b[0m │\n",
       "└─────────────────────────────────┴────────────────────────┴───────────────┘\n"
      ]
     },
     "metadata": {},
     "output_type": "display_data"
    },
    {
     "data": {
      "text/html": [
       "<pre style=\"white-space:pre;overflow-x:auto;line-height:normal;font-family:Menlo,'DejaVu Sans Mono',consolas,'Courier New',monospace\"><span style=\"font-weight: bold\"> Total params: </span><span style=\"color: #00af00; text-decoration-color: #00af00\">37,377</span> (146.00 KB)\n",
       "</pre>\n"
      ],
      "text/plain": [
       "\u001b[1m Total params: \u001b[0m\u001b[38;5;34m37,377\u001b[0m (146.00 KB)\n"
      ]
     },
     "metadata": {},
     "output_type": "display_data"
    },
    {
     "data": {
      "text/html": [
       "<pre style=\"white-space:pre;overflow-x:auto;line-height:normal;font-family:Menlo,'DejaVu Sans Mono',consolas,'Courier New',monospace\"><span style=\"font-weight: bold\"> Trainable params: </span><span style=\"color: #00af00; text-decoration-color: #00af00\">37,121</span> (145.00 KB)\n",
       "</pre>\n"
      ],
      "text/plain": [
       "\u001b[1m Trainable params: \u001b[0m\u001b[38;5;34m37,121\u001b[0m (145.00 KB)\n"
      ]
     },
     "metadata": {},
     "output_type": "display_data"
    },
    {
     "data": {
      "text/html": [
       "<pre style=\"white-space:pre;overflow-x:auto;line-height:normal;font-family:Menlo,'DejaVu Sans Mono',consolas,'Courier New',monospace\"><span style=\"font-weight: bold\"> Non-trainable params: </span><span style=\"color: #00af00; text-decoration-color: #00af00\">256</span> (1.00 KB)\n",
       "</pre>\n"
      ],
      "text/plain": [
       "\u001b[1m Non-trainable params: \u001b[0m\u001b[38;5;34m256\u001b[0m (1.00 KB)\n"
      ]
     },
     "metadata": {},
     "output_type": "display_data"
    }
   ],
   "source": [
    "# Define the CNN model\n",
    "cnn_model = models.Sequential([\n",
    "    layers.Input(shape=(IMG_SIZE, IMG_SIZE, 3)),\n",
    "    layers.Rescaling(1./255),  # Normalize pixel values to [0, 1]\n",
    "\n",
    "    layers.Conv2D(128, 3, padding='same', activation='relu'),\n",
    "    layers.MaxPooling2D(),\n",
    "    layers.BatchNormalization(),# Flatten the image input\n",
    "    layers.GlobalAveragePooling2D(),\n",
    "\n",
    "    layers.Dense(256, activation='relu'),  # Fully connected layer\n",
    "    layers.Dropout(0.25),  # Dropout to prevent overfitting\n",
    "    layers.Dense(1, activation='sigmoid')  # Output layer for binary classification\n",
    "], name='CNN_Test')\n",
    "\n",
    "# Compile the model\n",
    "cnn_model.compile(\n",
    "    optimizer=tf.keras.optimizers.AdamW(learning_rate=0.0001),  # Optimizer with default learning rate\n",
    "    loss='binary_crossentropy',  # Loss function for binary classification\n",
    "    metrics=['accuracy', 'Precision', 'Recall', 'AUC'],  # Evaluation metrics\n",
    "    jit_compile=True  # Enable JIT compilation for speedup\n",
    ")\n",
    "\n",
    "# Print model summary\n",
    "cnn_model.summary()"
   ]
  },
  {
   "cell_type": "code",
   "execution_count": 26,
   "metadata": {
    "ExecuteTime": {
     "end_time": "2024-12-15T02:05:38.362534Z",
     "start_time": "2024-12-15T02:04:54.702080Z"
    }
   },
   "outputs": [
    {
     "name": "stdout",
     "output_type": "stream",
     "text": [
      "Epoch 1/10\n",
      "\u001b[1m54/54\u001b[0m \u001b[32m━━━━━━━━━━━━━━━━━━━━\u001b[0m\u001b[37m\u001b[0m \u001b[1m404s\u001b[0m 7s/step - AUC: 0.8260 - Precision: 0.7022 - Recall: 0.8127 - accuracy: 0.7512 - loss: 0.6332 - val_AUC: 0.7909 - val_Precision: 0.4698 - val_Recall: 1.0000 - val_accuracy: 0.4698 - val_loss: 0.6950\n",
      "Epoch 2/10\n",
      "\u001b[1m54/54\u001b[0m \u001b[32m━━━━━━━━━━━━━━━━━━━━\u001b[0m\u001b[37m\u001b[0m \u001b[1m395s\u001b[0m 7s/step - AUC: 0.8692 - Precision: 0.7496 - Recall: 0.8389 - accuracy: 0.7895 - loss: 0.5363 - val_AUC: 0.8718 - val_Precision: 0.5596 - val_Recall: 1.0000 - val_accuracy: 0.6302 - val_loss: 0.6714\n",
      "Epoch 3/10\n",
      "\u001b[1m54/54\u001b[0m \u001b[32m━━━━━━━━━━━━━━━━━━━━\u001b[0m\u001b[37m\u001b[0m \u001b[1m387s\u001b[0m 7s/step - AUC: 0.9134 - Precision: 0.7940 - Recall: 0.8804 - accuracy: 0.8321 - loss: 0.4623 - val_AUC: 0.9295 - val_Precision: 0.9262 - val_Recall: 0.6832 - val_accuracy: 0.8256 - val_loss: 0.6476\n",
      "Epoch 4/10\n",
      "\u001b[1m54/54\u001b[0m \u001b[32m━━━━━━━━━━━━━━━━━━━━\u001b[0m\u001b[37m\u001b[0m \u001b[1m392s\u001b[0m 7s/step - AUC: 0.9419 - Precision: 0.8218 - Recall: 0.9203 - accuracy: 0.8673 - loss: 0.3936 - val_AUC: 0.9547 - val_Precision: 0.9000 - val_Recall: 0.0446 - val_accuracy: 0.5488 - val_loss: 0.6216\n",
      "Epoch 5/10\n",
      "\u001b[1m54/54\u001b[0m \u001b[32m━━━━━━━━━━━━━━━━━━━━\u001b[0m\u001b[37m\u001b[0m \u001b[1m383s\u001b[0m 7s/step - AUC: 0.9392 - Precision: 0.8282 - Recall: 0.9342 - accuracy: 0.8751 - loss: 0.3646 - val_AUC: 0.9594 - val_Precision: 1.0000 - val_Recall: 0.0099 - val_accuracy: 0.5349 - val_loss: 0.6047\n",
      "Epoch 6/10\n",
      "\u001b[1m54/54\u001b[0m \u001b[32m━━━━━━━━━━━━━━━━━━━━\u001b[0m\u001b[37m\u001b[0m \u001b[1m375s\u001b[0m 7s/step - AUC: 0.9543 - Precision: 0.8587 - Recall: 0.9255 - accuracy: 0.8898 - loss: 0.3203 - val_AUC: 0.9632 - val_Precision: 0.9512 - val_Recall: 0.3861 - val_accuracy: 0.7023 - val_loss: 0.5345\n",
      "Epoch 7/10\n",
      "\u001b[1m54/54\u001b[0m \u001b[32m━━━━━━━━━━━━━━━━━━━━\u001b[0m\u001b[37m\u001b[0m \u001b[1m375s\u001b[0m 7s/step - AUC: 0.9578 - Precision: 0.8551 - Recall: 0.9397 - accuracy: 0.8976 - loss: 0.2969 - val_AUC: 0.9598 - val_Precision: 0.9545 - val_Recall: 0.1040 - val_accuracy: 0.5767 - val_loss: 0.5407\n",
      "Epoch 8/10\n",
      "\u001b[1m54/54\u001b[0m \u001b[32m━━━━━━━━━━━━━━━━━━━━\u001b[0m\u001b[37m\u001b[0m \u001b[1m371s\u001b[0m 7s/step - AUC: 0.9606 - Precision: 0.8770 - Recall: 0.9190 - accuracy: 0.8982 - loss: 0.2749 - val_AUC: 0.9609 - val_Precision: 0.9412 - val_Recall: 0.3960 - val_accuracy: 0.7047 - val_loss: 0.4743\n",
      "Epoch 9/10\n",
      "\u001b[1m54/54\u001b[0m \u001b[32m━━━━━━━━━━━━━━━━━━━━\u001b[0m\u001b[37m\u001b[0m \u001b[1m377s\u001b[0m 7s/step - AUC: 0.9638 - Precision: 0.8864 - Recall: 0.9207 - accuracy: 0.9034 - loss: 0.2597 - val_AUC: 0.9619 - val_Precision: 0.9630 - val_Recall: 0.3861 - val_accuracy: 0.7047 - val_loss: 0.4671\n",
      "Epoch 10/10\n",
      "\u001b[1m54/54\u001b[0m \u001b[32m━━━━━━━━━━━━━━━━━━━━\u001b[0m\u001b[37m\u001b[0m \u001b[1m375s\u001b[0m 7s/step - AUC: 0.9675 - Precision: 0.8960 - Recall: 0.9442 - accuracy: 0.9198 - loss: 0.2443 - val_AUC: 0.9609 - val_Precision: 0.9672 - val_Recall: 0.2921 - val_accuracy: 0.6628 - val_loss: 0.5055\n",
      "\u001b[1m68/68\u001b[0m \u001b[32m━━━━━━━━━━━━━━━━━━━━\u001b[0m\u001b[37m\u001b[0m \u001b[1m8s\u001b[0m 115ms/step - AUC: 0.9644 - Precision: 0.9716 - Recall: 0.2441 - accuracy: 0.6266 - loss: 0.5299\n",
      "\n",
      "Test accuracy: 0.6454\n",
      "Test precision: 0.9679\n",
      "Test recall: 0.2644\n",
      "Test F1: 0.4153\n",
      "Test AUC: 0.9639\n"
     ]
    }
   ],
   "source": [
    "# Train the model\n",
    "cnn_model_history = cnn_model.fit(\n",
    "    train_ds,  # Replace with your training dataset\n",
    "    validation_data=val_ds,  # Replace with your validation dataset\n",
    "    epochs=10,  # Number of epochs\n",
    "    batch_size=32  # Batch size\n",
    ")\n",
    "\n",
    "# Evaluate the model\n",
    "test_loss, test_acc, test_precision, test_recall, test_auc = cnn_model.evaluate(test_ds)\n",
    "print(f\"\\nTest accuracy: {test_acc:.4f}\")\n",
    "print(f\"Test precision: {test_precision:.4f}\")\n",
    "print(f\"Test recall: {test_recall:.4f}\")\n",
    "print(f\"Test F1: {statistics.harmonic_mean([test_precision, test_recall]):.4f}\")\n",
    "print(f\"Test AUC: {test_auc:.4f}\")\n"
   ]
  },
  {
   "cell_type": "markdown",
   "metadata": {},
   "source": [
    "<!-- The following is the assignment description for the followning section, hidden from display\n",
    "### 6. Fine-tune the system\n",
    "1. Fine-tune the hyperparameters\n",
    "2. Once you are confident about your final model, measure its performance on the test set to estimate the generalisation error\n",
    "<!-- [//] # TODO: Optimizing the chosen models\n",
    "     [//] # TODO: What is each model predicting and how can we visualize that?\n",
    "-->\n",
    "# 6. Fine-tune the system\n",
    "With the previously acquired knowledge, Convolutional Networks outperform the\n",
    "simpler Feedforward neural network.\n",
    "\n",
    "We will also focus on optimizing the parameters so that we obtain the best\n",
    "results possible"
   ]
  },
  {
   "cell_type": "code",
   "execution_count": 28,
   "metadata": {
    "ExecuteTime": {
     "end_time": "2024-12-15T02:05:39.153111Z",
     "start_time": "2024-12-15T02:05:39.030775Z"
    }
   },
   "outputs": [
    {
     "data": {
      "text/html": [
       "<pre style=\"white-space:pre;overflow-x:auto;line-height:normal;font-family:Menlo,'DejaVu Sans Mono',consolas,'Courier New',monospace\"><span style=\"font-weight: bold\">Model: \"Pokemon_Predictor\"</span>\n",
       "</pre>\n"
      ],
      "text/plain": [
       "\u001b[1mModel: \"Pokemon_Predictor\"\u001b[0m\n"
      ]
     },
     "metadata": {},
     "output_type": "display_data"
    },
    {
     "data": {
      "text/html": [
       "<pre style=\"white-space:pre;overflow-x:auto;line-height:normal;font-family:Menlo,'DejaVu Sans Mono',consolas,'Courier New',monospace\">┏━━━━━━━━━━━━━━━━━━━━━━━━━━━━━━━━━┳━━━━━━━━━━━━━━━━━━━━━━━━┳━━━━━━━━━━━━━━━┓\n",
       "┃<span style=\"font-weight: bold\"> Layer (type)                    </span>┃<span style=\"font-weight: bold\"> Output Shape           </span>┃<span style=\"font-weight: bold\">       Param # </span>┃\n",
       "┡━━━━━━━━━━━━━━━━━━━━━━━━━━━━━━━━━╇━━━━━━━━━━━━━━━━━━━━━━━━╇━━━━━━━━━━━━━━━┩\n",
       "│ rescaling_2 (<span style=\"color: #0087ff; text-decoration-color: #0087ff\">Rescaling</span>)         │ (<span style=\"color: #00d7ff; text-decoration-color: #00d7ff\">None</span>, <span style=\"color: #00af00; text-decoration-color: #00af00\">128</span>, <span style=\"color: #00af00; text-decoration-color: #00af00\">128</span>, <span style=\"color: #00af00; text-decoration-color: #00af00\">3</span>)    │             <span style=\"color: #00af00; text-decoration-color: #00af00\">0</span> │\n",
       "├─────────────────────────────────┼────────────────────────┼───────────────┤\n",
       "│ conv2d_1 (<span style=\"color: #0087ff; text-decoration-color: #0087ff\">Conv2D</span>)               │ (<span style=\"color: #00d7ff; text-decoration-color: #00d7ff\">None</span>, <span style=\"color: #00af00; text-decoration-color: #00af00\">128</span>, <span style=\"color: #00af00; text-decoration-color: #00af00\">128</span>, <span style=\"color: #00af00; text-decoration-color: #00af00\">64</span>)   │         <span style=\"color: #00af00; text-decoration-color: #00af00\">1,792</span> │\n",
       "├─────────────────────────────────┼────────────────────────┼───────────────┤\n",
       "│ max_pooling2d_1 (<span style=\"color: #0087ff; text-decoration-color: #0087ff\">MaxPooling2D</span>)  │ (<span style=\"color: #00d7ff; text-decoration-color: #00d7ff\">None</span>, <span style=\"color: #00af00; text-decoration-color: #00af00\">64</span>, <span style=\"color: #00af00; text-decoration-color: #00af00\">64</span>, <span style=\"color: #00af00; text-decoration-color: #00af00\">64</span>)     │             <span style=\"color: #00af00; text-decoration-color: #00af00\">0</span> │\n",
       "├─────────────────────────────────┼────────────────────────┼───────────────┤\n",
       "│ batch_normalization_1           │ (<span style=\"color: #00d7ff; text-decoration-color: #00d7ff\">None</span>, <span style=\"color: #00af00; text-decoration-color: #00af00\">64</span>, <span style=\"color: #00af00; text-decoration-color: #00af00\">64</span>, <span style=\"color: #00af00; text-decoration-color: #00af00\">64</span>)     │           <span style=\"color: #00af00; text-decoration-color: #00af00\">256</span> │\n",
       "│ (<span style=\"color: #0087ff; text-decoration-color: #0087ff\">BatchNormalization</span>)            │                        │               │\n",
       "├─────────────────────────────────┼────────────────────────┼───────────────┤\n",
       "│ conv2d_2 (<span style=\"color: #0087ff; text-decoration-color: #0087ff\">Conv2D</span>)               │ (<span style=\"color: #00d7ff; text-decoration-color: #00d7ff\">None</span>, <span style=\"color: #00af00; text-decoration-color: #00af00\">64</span>, <span style=\"color: #00af00; text-decoration-color: #00af00\">64</span>, <span style=\"color: #00af00; text-decoration-color: #00af00\">128</span>)    │        <span style=\"color: #00af00; text-decoration-color: #00af00\">73,856</span> │\n",
       "├─────────────────────────────────┼────────────────────────┼───────────────┤\n",
       "│ max_pooling2d_2 (<span style=\"color: #0087ff; text-decoration-color: #0087ff\">MaxPooling2D</span>)  │ (<span style=\"color: #00d7ff; text-decoration-color: #00d7ff\">None</span>, <span style=\"color: #00af00; text-decoration-color: #00af00\">32</span>, <span style=\"color: #00af00; text-decoration-color: #00af00\">32</span>, <span style=\"color: #00af00; text-decoration-color: #00af00\">128</span>)    │             <span style=\"color: #00af00; text-decoration-color: #00af00\">0</span> │\n",
       "├─────────────────────────────────┼────────────────────────┼───────────────┤\n",
       "│ batch_normalization_2           │ (<span style=\"color: #00d7ff; text-decoration-color: #00d7ff\">None</span>, <span style=\"color: #00af00; text-decoration-color: #00af00\">32</span>, <span style=\"color: #00af00; text-decoration-color: #00af00\">32</span>, <span style=\"color: #00af00; text-decoration-color: #00af00\">128</span>)    │           <span style=\"color: #00af00; text-decoration-color: #00af00\">512</span> │\n",
       "│ (<span style=\"color: #0087ff; text-decoration-color: #0087ff\">BatchNormalization</span>)            │                        │               │\n",
       "├─────────────────────────────────┼────────────────────────┼───────────────┤\n",
       "│ conv2d_3 (<span style=\"color: #0087ff; text-decoration-color: #0087ff\">Conv2D</span>)               │ (<span style=\"color: #00d7ff; text-decoration-color: #00d7ff\">None</span>, <span style=\"color: #00af00; text-decoration-color: #00af00\">32</span>, <span style=\"color: #00af00; text-decoration-color: #00af00\">32</span>, <span style=\"color: #00af00; text-decoration-color: #00af00\">256</span>)    │       <span style=\"color: #00af00; text-decoration-color: #00af00\">295,168</span> │\n",
       "├─────────────────────────────────┼────────────────────────┼───────────────┤\n",
       "│ max_pooling2d_3 (<span style=\"color: #0087ff; text-decoration-color: #0087ff\">MaxPooling2D</span>)  │ (<span style=\"color: #00d7ff; text-decoration-color: #00d7ff\">None</span>, <span style=\"color: #00af00; text-decoration-color: #00af00\">16</span>, <span style=\"color: #00af00; text-decoration-color: #00af00\">16</span>, <span style=\"color: #00af00; text-decoration-color: #00af00\">256</span>)    │             <span style=\"color: #00af00; text-decoration-color: #00af00\">0</span> │\n",
       "├─────────────────────────────────┼────────────────────────┼───────────────┤\n",
       "│ batch_normalization_3           │ (<span style=\"color: #00d7ff; text-decoration-color: #00d7ff\">None</span>, <span style=\"color: #00af00; text-decoration-color: #00af00\">16</span>, <span style=\"color: #00af00; text-decoration-color: #00af00\">16</span>, <span style=\"color: #00af00; text-decoration-color: #00af00\">256</span>)    │         <span style=\"color: #00af00; text-decoration-color: #00af00\">1,024</span> │\n",
       "│ (<span style=\"color: #0087ff; text-decoration-color: #0087ff\">BatchNormalization</span>)            │                        │               │\n",
       "├─────────────────────────────────┼────────────────────────┼───────────────┤\n",
       "│ global_average_pooling2d_1      │ (<span style=\"color: #00d7ff; text-decoration-color: #00d7ff\">None</span>, <span style=\"color: #00af00; text-decoration-color: #00af00\">256</span>)            │             <span style=\"color: #00af00; text-decoration-color: #00af00\">0</span> │\n",
       "│ (<span style=\"color: #0087ff; text-decoration-color: #0087ff\">GlobalAveragePooling2D</span>)        │                        │               │\n",
       "├─────────────────────────────────┼────────────────────────┼───────────────┤\n",
       "│ dense_5 (<span style=\"color: #0087ff; text-decoration-color: #0087ff\">Dense</span>)                 │ (<span style=\"color: #00d7ff; text-decoration-color: #00d7ff\">None</span>, <span style=\"color: #00af00; text-decoration-color: #00af00\">256</span>)            │        <span style=\"color: #00af00; text-decoration-color: #00af00\">65,792</span> │\n",
       "├─────────────────────────────────┼────────────────────────┼───────────────┤\n",
       "│ dropout_3 (<span style=\"color: #0087ff; text-decoration-color: #0087ff\">Dropout</span>)             │ (<span style=\"color: #00d7ff; text-decoration-color: #00d7ff\">None</span>, <span style=\"color: #00af00; text-decoration-color: #00af00\">256</span>)            │             <span style=\"color: #00af00; text-decoration-color: #00af00\">0</span> │\n",
       "├─────────────────────────────────┼────────────────────────┼───────────────┤\n",
       "│ dense_6 (<span style=\"color: #0087ff; text-decoration-color: #0087ff\">Dense</span>)                 │ (<span style=\"color: #00d7ff; text-decoration-color: #00d7ff\">None</span>, <span style=\"color: #00af00; text-decoration-color: #00af00\">1</span>)              │           <span style=\"color: #00af00; text-decoration-color: #00af00\">257</span> │\n",
       "└─────────────────────────────────┴────────────────────────┴───────────────┘\n",
       "</pre>\n"
      ],
      "text/plain": [
       "┏━━━━━━━━━━━━━━━━━━━━━━━━━━━━━━━━━┳━━━━━━━━━━━━━━━━━━━━━━━━┳━━━━━━━━━━━━━━━┓\n",
       "┃\u001b[1m \u001b[0m\u001b[1mLayer (type)                   \u001b[0m\u001b[1m \u001b[0m┃\u001b[1m \u001b[0m\u001b[1mOutput Shape          \u001b[0m\u001b[1m \u001b[0m┃\u001b[1m \u001b[0m\u001b[1m      Param #\u001b[0m\u001b[1m \u001b[0m┃\n",
       "┡━━━━━━━━━━━━━━━━━━━━━━━━━━━━━━━━━╇━━━━━━━━━━━━━━━━━━━━━━━━╇━━━━━━━━━━━━━━━┩\n",
       "│ rescaling_2 (\u001b[38;5;33mRescaling\u001b[0m)         │ (\u001b[38;5;45mNone\u001b[0m, \u001b[38;5;34m128\u001b[0m, \u001b[38;5;34m128\u001b[0m, \u001b[38;5;34m3\u001b[0m)    │             \u001b[38;5;34m0\u001b[0m │\n",
       "├─────────────────────────────────┼────────────────────────┼───────────────┤\n",
       "│ conv2d_1 (\u001b[38;5;33mConv2D\u001b[0m)               │ (\u001b[38;5;45mNone\u001b[0m, \u001b[38;5;34m128\u001b[0m, \u001b[38;5;34m128\u001b[0m, \u001b[38;5;34m64\u001b[0m)   │         \u001b[38;5;34m1,792\u001b[0m │\n",
       "├─────────────────────────────────┼────────────────────────┼───────────────┤\n",
       "│ max_pooling2d_1 (\u001b[38;5;33mMaxPooling2D\u001b[0m)  │ (\u001b[38;5;45mNone\u001b[0m, \u001b[38;5;34m64\u001b[0m, \u001b[38;5;34m64\u001b[0m, \u001b[38;5;34m64\u001b[0m)     │             \u001b[38;5;34m0\u001b[0m │\n",
       "├─────────────────────────────────┼────────────────────────┼───────────────┤\n",
       "│ batch_normalization_1           │ (\u001b[38;5;45mNone\u001b[0m, \u001b[38;5;34m64\u001b[0m, \u001b[38;5;34m64\u001b[0m, \u001b[38;5;34m64\u001b[0m)     │           \u001b[38;5;34m256\u001b[0m │\n",
       "│ (\u001b[38;5;33mBatchNormalization\u001b[0m)            │                        │               │\n",
       "├─────────────────────────────────┼────────────────────────┼───────────────┤\n",
       "│ conv2d_2 (\u001b[38;5;33mConv2D\u001b[0m)               │ (\u001b[38;5;45mNone\u001b[0m, \u001b[38;5;34m64\u001b[0m, \u001b[38;5;34m64\u001b[0m, \u001b[38;5;34m128\u001b[0m)    │        \u001b[38;5;34m73,856\u001b[0m │\n",
       "├─────────────────────────────────┼────────────────────────┼───────────────┤\n",
       "│ max_pooling2d_2 (\u001b[38;5;33mMaxPooling2D\u001b[0m)  │ (\u001b[38;5;45mNone\u001b[0m, \u001b[38;5;34m32\u001b[0m, \u001b[38;5;34m32\u001b[0m, \u001b[38;5;34m128\u001b[0m)    │             \u001b[38;5;34m0\u001b[0m │\n",
       "├─────────────────────────────────┼────────────────────────┼───────────────┤\n",
       "│ batch_normalization_2           │ (\u001b[38;5;45mNone\u001b[0m, \u001b[38;5;34m32\u001b[0m, \u001b[38;5;34m32\u001b[0m, \u001b[38;5;34m128\u001b[0m)    │           \u001b[38;5;34m512\u001b[0m │\n",
       "│ (\u001b[38;5;33mBatchNormalization\u001b[0m)            │                        │               │\n",
       "├─────────────────────────────────┼────────────────────────┼───────────────┤\n",
       "│ conv2d_3 (\u001b[38;5;33mConv2D\u001b[0m)               │ (\u001b[38;5;45mNone\u001b[0m, \u001b[38;5;34m32\u001b[0m, \u001b[38;5;34m32\u001b[0m, \u001b[38;5;34m256\u001b[0m)    │       \u001b[38;5;34m295,168\u001b[0m │\n",
       "├─────────────────────────────────┼────────────────────────┼───────────────┤\n",
       "│ max_pooling2d_3 (\u001b[38;5;33mMaxPooling2D\u001b[0m)  │ (\u001b[38;5;45mNone\u001b[0m, \u001b[38;5;34m16\u001b[0m, \u001b[38;5;34m16\u001b[0m, \u001b[38;5;34m256\u001b[0m)    │             \u001b[38;5;34m0\u001b[0m │\n",
       "├─────────────────────────────────┼────────────────────────┼───────────────┤\n",
       "│ batch_normalization_3           │ (\u001b[38;5;45mNone\u001b[0m, \u001b[38;5;34m16\u001b[0m, \u001b[38;5;34m16\u001b[0m, \u001b[38;5;34m256\u001b[0m)    │         \u001b[38;5;34m1,024\u001b[0m │\n",
       "│ (\u001b[38;5;33mBatchNormalization\u001b[0m)            │                        │               │\n",
       "├─────────────────────────────────┼────────────────────────┼───────────────┤\n",
       "│ global_average_pooling2d_1      │ (\u001b[38;5;45mNone\u001b[0m, \u001b[38;5;34m256\u001b[0m)            │             \u001b[38;5;34m0\u001b[0m │\n",
       "│ (\u001b[38;5;33mGlobalAveragePooling2D\u001b[0m)        │                        │               │\n",
       "├─────────────────────────────────┼────────────────────────┼───────────────┤\n",
       "│ dense_5 (\u001b[38;5;33mDense\u001b[0m)                 │ (\u001b[38;5;45mNone\u001b[0m, \u001b[38;5;34m256\u001b[0m)            │        \u001b[38;5;34m65,792\u001b[0m │\n",
       "├─────────────────────────────────┼────────────────────────┼───────────────┤\n",
       "│ dropout_3 (\u001b[38;5;33mDropout\u001b[0m)             │ (\u001b[38;5;45mNone\u001b[0m, \u001b[38;5;34m256\u001b[0m)            │             \u001b[38;5;34m0\u001b[0m │\n",
       "├─────────────────────────────────┼────────────────────────┼───────────────┤\n",
       "│ dense_6 (\u001b[38;5;33mDense\u001b[0m)                 │ (\u001b[38;5;45mNone\u001b[0m, \u001b[38;5;34m1\u001b[0m)              │           \u001b[38;5;34m257\u001b[0m │\n",
       "└─────────────────────────────────┴────────────────────────┴───────────────┘\n"
      ]
     },
     "metadata": {},
     "output_type": "display_data"
    },
    {
     "data": {
      "text/html": [
       "<pre style=\"white-space:pre;overflow-x:auto;line-height:normal;font-family:Menlo,'DejaVu Sans Mono',consolas,'Courier New',monospace\"><span style=\"font-weight: bold\"> Total params: </span><span style=\"color: #00af00; text-decoration-color: #00af00\">438,657</span> (1.67 MB)\n",
       "</pre>\n"
      ],
      "text/plain": [
       "\u001b[1m Total params: \u001b[0m\u001b[38;5;34m438,657\u001b[0m (1.67 MB)\n"
      ]
     },
     "metadata": {},
     "output_type": "display_data"
    },
    {
     "data": {
      "text/html": [
       "<pre style=\"white-space:pre;overflow-x:auto;line-height:normal;font-family:Menlo,'DejaVu Sans Mono',consolas,'Courier New',monospace\"><span style=\"font-weight: bold\"> Trainable params: </span><span style=\"color: #00af00; text-decoration-color: #00af00\">437,761</span> (1.67 MB)\n",
       "</pre>\n"
      ],
      "text/plain": [
       "\u001b[1m Trainable params: \u001b[0m\u001b[38;5;34m437,761\u001b[0m (1.67 MB)\n"
      ]
     },
     "metadata": {},
     "output_type": "display_data"
    },
    {
     "data": {
      "text/html": [
       "<pre style=\"white-space:pre;overflow-x:auto;line-height:normal;font-family:Menlo,'DejaVu Sans Mono',consolas,'Courier New',monospace\"><span style=\"font-weight: bold\"> Non-trainable params: </span><span style=\"color: #00af00; text-decoration-color: #00af00\">896</span> (3.50 KB)\n",
       "</pre>\n"
      ],
      "text/plain": [
       "\u001b[1m Non-trainable params: \u001b[0m\u001b[38;5;34m896\u001b[0m (3.50 KB)\n"
      ]
     },
     "metadata": {},
     "output_type": "display_data"
    }
   ],
   "source": [
    "# build CNN model\n",
    "pokemon_predictor = tf.keras.Sequential([\n",
    "    layers.Input(shape=(IMG_SIZE, IMG_SIZE, 3)),\n",
    "\n",
    "    layers.Rescaling(1./255),\n",
    "\n",
    "    layers.Conv2D(64, 3, padding='same', activation='relu'),\n",
    "    layers.MaxPooling2D(),\n",
    "    layers.BatchNormalization(),\n",
    "\n",
    "    layers.Conv2D(128, 3, padding='same', activation='relu'),\n",
    "    layers.MaxPooling2D(),\n",
    "    layers.BatchNormalization(),\n",
    "\n",
    "    layers.Conv2D(256, 3, padding='same', activation='relu'),\n",
    "    layers.MaxPooling2D(),\n",
    "    layers.BatchNormalization(),\n",
    "\n",
    "    layers.GlobalAveragePooling2D(),\n",
    "    layers.Dense(256, activation='relu'),\n",
    "    layers.Dropout(0.5),\n",
    "    layers.Dense(1, activation='sigmoid')\n",
    "], name='Pokemon_Predictor')\n",
    "\n",
    "# compile model\n",
    "pokemon_predictor.compile(\n",
    "    optimizer=tf.keras.optimizers.Adam(learning_rate=0.0001),\n",
    "    loss='binary_crossentropy',\n",
    "    metrics=['accuracy', 'Precision', 'Recall', 'AUC'],\n",
    "    jit_compile=True\n",
    ")\n",
    "\n",
    "# inspect model\n",
    "pokemon_predictor.summary()"
   ]
  },
  {
   "cell_type": "code",
   "execution_count": null,
   "metadata": {
    "ExecuteTime": {
     "end_time": "2024-12-15T02:06:28.467130Z",
     "start_time": "2024-12-15T02:05:39.203474Z"
    }
   },
   "outputs": [
    {
     "name": "stdout",
     "output_type": "stream",
     "text": [
      "Epoch 1/25\n",
      "\u001b[1m54/62\u001b[0m \u001b[32m━━━━━━━━━━━━━━━━━\u001b[0m\u001b[37m━━━\u001b[0m \u001b[1m49s\u001b[0m 6s/step - AUC: 0.8634 - Precision: 0.7350 - Recall: 0.8779 - accuracy: 0.7863 - loss: 0.4741"
     ]
    },
    {
     "name": "stderr",
     "output_type": "stream",
     "text": [
      "/Users/hmp/Documents/VIA/6th/MAL/Final Group Project/.venv/lib/python3.12/site-packages/keras/src/trainers/epoch_iterator.py:107: UserWarning: Your input ran out of data; interrupting training. Make sure that your dataset or generator can generate at least `steps_per_epoch * epochs` batches. You may need to use the `.repeat()` function when building your dataset.\n",
      "  self._interrupted_warning()\n"
     ]
    },
    {
     "name": "stdout",
     "output_type": "stream",
     "text": [
      "\u001b[1m62/62\u001b[0m \u001b[32m━━━━━━━━━━━━━━━━━━━━\u001b[0m\u001b[37m\u001b[0m \u001b[1m339s\u001b[0m 5s/step - AUC: 0.8712 - Precision: 0.7432 - Recall: 0.8834 - accuracy: 0.7947 - loss: 0.4617 - val_AUC: 0.6836 - val_Precision: 0.4698 - val_Recall: 1.0000 - val_accuracy: 0.4698 - val_loss: 0.7945\n",
      "Epoch 2/25\n",
      "\u001b[1m62/62\u001b[0m \u001b[32m━━━━━━━━━━━━━━━━━━━━\u001b[0m\u001b[37m\u001b[0m \u001b[1m335s\u001b[0m 5s/step - AUC: 0.9659 - Precision: 0.8483 - Recall: 0.9602 - accuracy: 0.9000 - loss: 0.2557 - val_AUC: 0.7653 - val_Precision: 0.4698 - val_Recall: 1.0000 - val_accuracy: 0.4698 - val_loss: 1.0446\n",
      "Epoch 3/25\n",
      "\u001b[1m62/62\u001b[0m \u001b[32m━━━━━━━━━━━━━━━━━━━━\u001b[0m\u001b[37m\u001b[0m \u001b[1m330s\u001b[0m 5s/step - AUC: 0.9693 - Precision: 0.8728 - Recall: 0.9448 - accuracy: 0.9089 - loss: 0.2331 - val_AUC: 0.8953 - val_Precision: 0.4698 - val_Recall: 1.0000 - val_accuracy: 0.4698 - val_loss: 1.0105\n",
      "Epoch 4/25\n",
      "\u001b[1m62/62\u001b[0m \u001b[32m━━━━━━━━━━━━━━━━━━━━\u001b[0m\u001b[37m\u001b[0m \u001b[1m336s\u001b[0m 5s/step - AUC: 0.9791 - Precision: 0.9063 - Recall: 0.9744 - accuracy: 0.9393 - loss: 0.1879 - val_AUC: 0.9776 - val_Precision: 0.4698 - val_Recall: 1.0000 - val_accuracy: 0.4698 - val_loss: 0.8898\n",
      "Epoch 5/25\n",
      "\u001b[1m 1/62\u001b[0m \u001b[37m━━━━━━━━━━━━━━━━━━━━\u001b[0m \u001b[1m6:23\u001b[0m 6s/step - AUC: 0.9957 - Precision: 0.7333 - Recall: 1.0000 - accuracy: 0.8750 - loss: 0.2356"
     ]
    }
   ],
   "source": [
    "# training loop\n",
    "pokemon_predictor.fit(\n",
    "    train_ds,\n",
    "    epochs=25,\n",
    "    steps_per_epoch=2000 // BATCH_SIZE,\n",
    "    validation_data=val_ds,\n",
    "    callbacks=[early_stopping]\n",
    ")\n",
    "\n",
    "# evaluate on test set\n",
    "test_loss, test_acc, test_precision, test_recall, test_auc = pokemon_predictor.evaluate(test_ds)\n",
    "print(f\"\\nTest accuracy: {test_acc:.4f}\")\n",
    "print(f\"Test precision: {test_precision:.4f}\")\n",
    "print(f\"Test recall: {test_recall:.4f}\")\n",
    "print(f\"Test F1: {statistics.harmonic_mean([test_precision, test_recall]):.4f}\")\n",
    "print(f\"Test AUC: {test_auc:.4f}\")"
   ]
  },
  {
   "cell_type": "markdown",
   "metadata": {},
   "source": [
    "### 7. Present your solution\n",
    "1. Document what you have done\n",
    "2. Create a nice 15 minute video presentation with slides\n",
    "    * Make sure you highlight the big picture first\n",
    "3. Explain why your solution achieves the business objective\n",
    "4. Don't forget to present interesting points you noticed along the way:\n",
    "    * Describe what worked and what did not\n",
    "    * List your assumptions and you model's limitations\n",
    "5. Ensure your key findings are communicated through nice visualisations or easy-to-remember statements (e.g. \"the median income is the number-one predictor of housing prices\")\n",
    "6. Upload the presentation to some online platform, e.g. YouTube or Vimeo, and supply a link to the video in the notebook."
   ]
  },
  {
   "cell_type": "code",
   "execution_count": null,
   "metadata": {},
   "outputs": [],
   "source": [
    "def predict_single_image(img, predictor):\n",
    "    x = np.expand_dims(img, axis=0)\n",
    "    return predictor.predict(x)"
   ]
  },
  {
   "cell_type": "code",
   "execution_count": null,
   "metadata": {},
   "outputs": [],
   "source": [
    "# Define a few image paths\n",
    "image_paths = [\n",
    "    \"path/to/image1.jpg\",\n",
    "    \"path/to/image2.jpg\",\n",
    "    \"path/to/image3.jpg\",\n",
    "    \"path/to/image4.jpg\",\n",
    "    \"path/to/image5.jpg\"\n",
    "]\n",
    "\n",
    "# Load and preprocess the images\n",
    "images = []\n",
    "for img_path in image_paths:\n",
    "    img = tf.keras.preprocessing.image.load_img(img_path, target_size=(128, 128))  # Adjust target_size as needed\n",
    "    img_array = tf.keras.preprocessing.image.img_to_array(img)\n",
    "    img_array = np.expand_dims(img_array, axis=0)\n",
    "    images.append(img_array)\n",
    "\n",
    "images = np.vstack(images)\n",
    "\n",
    "# Use the trained classifier to predict the class\n",
    "predictions = pokemon_predictor.predict(images)\n",
    "predictions = (predictions > 0.5).astype(int)\n",
    "\n",
    "# Print the image paths with their predicted class\n",
    "for img_path, prediction in zip(image_paths, predictions):\n",
    "    classification = \"Pokémon\" if prediction == 1 else \"Not Pokémon\"\n",
    "    print(f\"Image: {img_path}\\nPredicted Classification: {classification}\\n\")"
   ]
  },
  {
   "cell_type": "code",
   "execution_count": 27,
   "metadata": {},
   "outputs": [
    {
     "ename": "NameError",
     "evalue": "name 'predict_single_image' is not defined",
     "output_type": "error",
     "traceback": [
      "\u001b[0;31m---------------------------------------------------------------------------\u001b[0m",
      "\u001b[0;31mNameError\u001b[0m                                 Traceback (most recent call last)",
      "Cell \u001b[0;32mIn[27], line 13\u001b[0m\n\u001b[1;32m     11\u001b[0m plt\u001b[38;5;241m.\u001b[39msubplot(\u001b[38;5;241m2\u001b[39m, \u001b[38;5;241m2\u001b[39m, \u001b[38;5;241m2\u001b[39m)\n\u001b[1;32m     12\u001b[0m plt\u001b[38;5;241m.\u001b[39mgrid(\u001b[38;5;28;01mFalse\u001b[39;00m)\n\u001b[0;32m---> 13\u001b[0m plt\u001b[38;5;241m.\u001b[39mtitle(\u001b[43mpredict_single_image\u001b[49m(__pokemon_image, pokemon_predictor))\n\u001b[1;32m     14\u001b[0m plt\u001b[38;5;241m.\u001b[39mimshow(__pokemon_resized)\n\u001b[1;32m     15\u001b[0m plt\u001b[38;5;241m.\u001b[39msubplot(\u001b[38;5;241m2\u001b[39m, \u001b[38;5;241m2\u001b[39m, \u001b[38;5;241m3\u001b[39m)\n",
      "\u001b[0;31mNameError\u001b[0m: name 'predict_single_image' is not defined"
     ]
    },
    {
     "data": {
      "image/png": "[encoded data removed]",
      "text/plain": [
       "<Figure size 1000x1000 with 2 Axes>"
      ]
     },
     "metadata": {},
     "output_type": "display_data"
    }
   ],
   "source": [
    "plt.figure(figsize=(10,10))\n",
    "\n",
    "__pokemon_image = plt.imread(os.path.join(pokemon_images_dir, '25.png'))\n",
    "__pokemon_resized = plt.imread(os.path.join(pkm_output, '25.png'))\n",
    "__digimon_image = plt.imread(os.path.join(digimon_images_dir, 'Agumon.jpg'))\n",
    "__digimon_resized = plt.imread(os.path.join(dmn_output, 'Agumon.png'))\n",
    "\n",
    "plt.subplot(2, 2, 1)\n",
    "plt.grid(False)\n",
    "plt.imshow(__pokemon_image)\n",
    "plt.subplot(2, 2, 2)\n",
    "plt.grid(False)\n",
    "plt.title(predict_single_image(__pokemon_image, pokemon_predictor))\n",
    "plt.imshow(__pokemon_resized)\n",
    "plt.subplot(2, 2, 3)\n",
    "plt.grid(False)\n",
    "plt.imshow(__digimon_image)\n",
    "plt.subplot(2, 2, 4)\n",
    "plt.grid(False)\n",
    "plt.title(predict_single_image(__digimon_image, pokemon_predictor))\n",
    "plt.imshow(__digimon_resized)\n",
    "plt.show()"
   ]
  },
  {
   "cell_type": "markdown",
   "metadata": {},
   "source": [
    "[//] # TODO: Documentation\n",
    "## Final Documentation"
   ]
  },
  {
   "cell_type": "markdown",
   "metadata": {},
   "source": [
    "Géron, A. 2017, *Hands-On Machine Learning with Scikit-Learn and Tensorflow*, Appendix B, O'Reilly Media, Inc., Sebastopol."
   ]
  }
 ],
 "metadata": {
  "kernelspec": {
   "display_name": ".venv",
   "language": "python",
   "name": "python3"
  },
  "language_info": {
   "codemirror_mode": {
    "name": "ipython",
    "version": 3
   },
   "file_extension": ".py",
   "mimetype": "text/x-python",
   "name": "python",
   "nbconvert_exporter": "python",
   "pygments_lexer": "ipython3",
   "version": "3.12.8"
  },
  "polyglot_notebook": {
   "kernelInfo": {
    "defaultKernelName": "csharp",
    "items": [
     {
      "aliases": [],
      "name": "csharp"
     }
    ]
   }
  }
 },
 "nbformat": 4,
 "nbformat_minor": 4
}
